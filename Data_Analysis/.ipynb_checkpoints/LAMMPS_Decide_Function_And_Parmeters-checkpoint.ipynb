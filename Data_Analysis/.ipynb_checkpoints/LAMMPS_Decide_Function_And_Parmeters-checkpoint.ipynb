{
 "cells": [
  {
   "cell_type": "code",
   "execution_count": 1,
   "id": "16cdbcfe",
   "metadata": {
    "ExecuteTime": {
     "end_time": "2021-11-19T20:47:25.208902Z",
     "start_time": "2021-11-19T20:47:24.990260Z"
    }
   },
   "outputs": [],
   "source": [
    "import matplotlib.pyplot as plt"
   ]
  },
  {
   "cell_type": "markdown",
   "id": "32d737af",
   "metadata": {},
   "source": [
    "# Analyzing potential functions"
   ]
  },
  {
   "cell_type": "markdown",
   "id": "ec2edbce",
   "metadata": {},
   "source": [
    "## Potential functions"
   ]
  },
  {
   "cell_type": "code",
   "execution_count": 3,
   "id": "89755628",
   "metadata": {
    "ExecuteTime": {
     "end_time": "2021-10-31T02:05:36.998782Z",
     "start_time": "2021-10-31T02:05:36.985160Z"
    }
   },
   "outputs": [],
   "source": [
    "def mie_potential(r,m,n,r_cut,sigma):\n",
    "    \n",
    "    eps = 1\n",
    "    sigma = sigma # Defines when the repulsion should start\n",
    "    rend = r_cut\n",
    "    \n",
    "    r_ = r \n",
    "    gamma_rep = m\n",
    "    gamma_att = 0\n",
    "    C = 4 #gamma_rep/(gamma_rep-gamma_att)*(gamma_rep/gamma_att)**(gamma_att/(gamma_rep-gamma_att))\n",
    "    if(r<=rend):\n",
    "        U = C*eps*((sigma/r_)**gamma_rep-(sigma/r_)**gamma_att)  - C*eps*((sigma/rend)**gamma_rep-(sigma/rend)**gamma_att) \n",
    "    else:\n",
    "        U = 0\n",
    "        \n",
    "    return U\n",
    "\n",
    "r = np.arange(.01,2,.001)\n",
    "# M = [6,8,16,32,64,128]\n",
    "# for m in M:\n",
    "#     U1 = [mie_potential(x,1.2,1.05,m) for x in r]\n",
    "#     plt.plot(r,U1, label=str(m))\n",
    "    \n",
    "# S = [.5,.85,.95,1,1.05,1.10,1.15,1.2]\n",
    "# M = 12\n",
    "# N = 6\n",
    "# r_cut = 1\n",
    "# for s in S:\n",
    "#     U1 = np.array([mie_potential(x,M,N,r_cut,s) for x in r])\n",
    "#     plt.plot(r,U1, label=str(s))\n",
    "#     print(s,np.sum(U1[r > s]>0))\n",
    "  \n",
    "# plt.title(\"M=\"+str(M)+\" N=\"+str(N)+\" r_cut=\"+str(r_cut))\n",
    "# plt.legend(title=\"sigma\",loc='upper right')\n",
    "    \n",
    "# r_cut = [.5,.85,.95,1,1.05,1.10,1.15,1.2]\n",
    "# M = 12\n",
    "# N = 6\n",
    "# sigma = 1\n",
    "# for R in r_cut:\n",
    "#     U1 = np.array([mie_potential(x,M,N,R,sigma) for x in r])\n",
    "#     plt.plot(r,U1, label=str(R))\n",
    "#     print(R,np.sum(U1[r > R]>0))\n",
    " \n",
    "# plt.title(\"M=\"+str(M)+\" N=\"+str(N)+\" sigma=\"+str(sigma))\n",
    "# plt.legend(title=\"r_cut\",loc='upper right')\n",
    "\n",
    "\n",
    "# r_cut = [.5,.85,.95,1,1.05,1.10,1.15,1.2]\n",
    "# r_cut = [1,1.2]\n",
    "# M = 128\n",
    "# N = 0\n",
    "# sigma = 1\n",
    "# for R in r_cut:\n",
    "#     U1 = np.array([mie_potential(x+R-1,M,N,R,R) for x in r])\n",
    "#     plt.plot(r,U1, label=str(R))\n",
    "#     print(R-1,R,np.sum(U1[r > R]>0))\n",
    " \n",
    "# plt.title(\"M=\"+str(M)+\" N=\"+str(N))\n",
    "# plt.legend(title=\"r_cut/sigma\",loc='upper right')\n",
    "\n",
    "# U1 = np.array([mie_potential(x,12,6,1.2,1.2) for x in r])\n",
    "# U2 = np.array([mie_potential(x,12,6,1,1) for x in r])\n",
    "# plt.plot(r,U1-U2)\n",
    "# plt.title(\"M=\"+str(M)+\" N=\"+str(N)+\"r_cut1=sigma1=1.2 and r_cut2=sigma2=1\")\n",
    "\n",
    "# plt.ylim(-4, 4)\n",
    "# plt.xlim(.4,2)\n",
    "# plt.xlabel(\"r, distance\")\n",
    "# plt.ylabel(\"Udiff, energy\")\n",
    "# plt.show()\n"
   ]
  },
  {
   "cell_type": "code",
   "execution_count": 4,
   "id": "5b91a4da",
   "metadata": {
    "ExecuteTime": {
     "end_time": "2021-10-31T02:05:43.186499Z",
     "start_time": "2021-10-31T02:05:43.148115Z"
    }
   },
   "outputs": [],
   "source": [
    "def leonard_jones(r):\n",
    "    eps = 1\n",
    "    sigma = 1\n",
    "    \n",
    "    U = 4*eps*((sigma/r)**12-(sigma/r)**6)\n",
    "    \n",
    "    return U\n",
    "    \n",
    "def trunc_leonard_jones(r):\n",
    "    \n",
    "    eps = 1\n",
    "    sigma = 1\n",
    "    rend = 1.2\n",
    "    \n",
    "    if(r<=rend):\n",
    "        U = 4*eps*((sigma/r)**12-(sigma/r)**6)\n",
    "    else:\n",
    "        U = 0\n",
    "        \n",
    "    return U\n",
    "\n",
    "def trunc_leonard_jones2(r):\n",
    "    \n",
    "    eps = 1.0\n",
    "    sigma = 1.0\n",
    "    rend = 1\n",
    "    \n",
    "    r2inv  = (sigma/r)**2\n",
    "    rinv6  = r2inv*r2inv*r2inv\n",
    "    lj1 = 4*eps\n",
    "    lj2 = 4*eps\n",
    "    \n",
    "    if(r<=rend):\n",
    "        U = rinv6*(lj1*rinv6-lj2)\n",
    "    else:\n",
    "        U = 0\n",
    "        \n",
    "    return U\n",
    "    \n",
    "def trunc_shift_leonard_jones(r):\n",
    "    eps = 1\n",
    "    sigma = 1\n",
    "    # 2.5*sigmtrumpa  for liquid #\n",
    "    rend = 1.2\n",
    "    \n",
    "    if(r<=rend):\n",
    "        U = 2*eps*((sigma/r)**12-(sigma/r)**6) - 2*eps*((sigma/rend)**12-(sigma/rend)**6) \n",
    "    else:\n",
    "        U = 0\n",
    "        \n",
    "    return U\n",
    "    \n",
    "from itertools import repeat\n",
    "\n",
    "def soft_sphere(r, n):\n",
    "    eps = .0002\n",
    "    sigma = 1\n",
    "    \n",
    "    if(r<=sigma):\n",
    "        U = eps*(sigma/r)**n \n",
    "    else:\n",
    "        U = 0\n",
    "        \n",
    "    return U\n",
    "\n",
    "def lammps_soft(r, n=12):\n",
    "    \n",
    "    rend = 1\n",
    "    A = 1\n",
    "    if(r<=rend):\n",
    "        U = A*((2+np.cos(np.pi*r/rend))**n-1)\n",
    "#         U = A*((1+np.cos(np.pi*r/rend))**n)\n",
    "    else:\n",
    "        U = 0\n",
    "        \n",
    "    return U\n",
    "\n",
    "def hooke(r):\n",
    "    \n",
    "    sigma = .5\n",
    "    rend = 2*sigma\n",
    "    K = 10000\n",
    "    if(r<=rend):\n",
    "        U = K*(rend-r)**2\n",
    "    else:\n",
    "        U = 0\n",
    "        \n",
    "    return U\n",
    "\n",
    "def mie_potential(r,n, sigma):\n",
    "    \n",
    "    eps = 1\n",
    "#     sigma = 1 # Defines when the repulsion should start\n",
    "    rend = 1.2\n",
    "    \n",
    "    r_ = r \n",
    "    gamma_rep = 6\n",
    "    gamma_att = 12\n",
    "    C = 4 #gamma_rep/(gamma_rep-gamma_att)*(gamma_rep/gamma_att)**(gamma_att/(gamma_rep-gamma_att))\n",
    "    if(r<=rend):\n",
    "        U = C*eps*((sigma/r_)**gamma_rep-(sigma/r_)**gamma_att)  - C*eps*((sigma/rend)**gamma_rep-(sigma/rend)**gamma_att) \n",
    "    else:\n",
    "        U = 0\n",
    "        \n",
    "    return U\n",
    "\n",
    "# r = 2**(1/6)\n",
    "\n",
    "# r = np.arange(.01,1.5,.001)\n",
    "# #  [.75,.80,.85,.95,1,1.05,1.1,1.15,1.2]\n",
    "# for sigma in [.995,1,1.005]:\n",
    "#     U1 = [mie_potential(x,6,sigma) for x in r]\n",
    "#     print(mie_potential(1,6,sigma))\n",
    "#     plt.plot(r,U1, label=str(sigma))\n",
    "    \n",
    "# plt.ylim(-.5, 1)\n",
    "# plt.xlim(.5, 1.25)\n",
    "# plt.xlabel(\"r, distance\")\n",
    "# plt.ylabel(\"U, energy\")\n",
    "# plt.legend(title=\"sigma\",loc='upper right')\n",
    "# plt.show()\n",
    "\n",
    "# # rmin will remains the same no affect due to shift\n",
    "# # My initial condition o*.95*.95*.95*.95*.95*.95f rminX.95 is such that particles \n",
    "# # overlap for effective particle size\n",
    "# # My initial condition of rminX1.05 is such that particles \n",
    "# # do not overlap for effective particle size\n",
    "# # Hence .95 or 1.05 is very large values\n",
    "\n",
    "# sigma = 1\n",
    "# rend = 1.2\n",
    "# gamma_rep = 12\n",
    "# gamma_att = 6\n",
    "# r_min = (gamma_rep/gamma_att)**(1/(gamma_rep-gamma_att))\n",
    "# r_initial = r_min*.953\n",
    "# K = -((sigma/rend)**gamma_rep-(sigma/rend)**gamma_att)\n",
    "# r_eff = sigma/((1+np.sqrt(1-4*K))/2)**(1/6)\n",
    "# # If I want effective sized particles to just touch, not overlap\n",
    "# print(\"Effective particle size\", r_eff, mie_potential(r_eff,6,sigma))\n",
    "# print(\"Minimum Energy position\", r_min, mie_potential(r_min,6,sigma))\n",
    "# print(\"Initial position Energy\", r_initial, mie_potential(r_initial,6,sigma))\n",
    "# print(\"Initial condition factor just touch\",r_eff/r_min)\n",
    "# print(\"How far is effective particle surface from rmin relatively\",(r_min-r_eff)/r_min)"
   ]
  },
  {
   "cell_type": "code",
   "execution_count": 5,
   "id": "2c5bc52a",
   "metadata": {
    "ExecuteTime": {
     "end_time": "2021-10-31T02:05:46.030313Z",
     "start_time": "2021-10-31T02:05:45.851771Z"
    }
   },
   "outputs": [
    {
     "data": {
      "image/png": "[encoded data removed]",
      "text/plain": [
       "<Figure size 432x288 with 1 Axes>"
      ]
     },
     "metadata": {
      "needs_background": "light"
     },
     "output_type": "display_data"
    },
    {
     "data": {
      "text/plain": [
       "(1.984585306741482, 1.984585306741482)"
      ]
     },
     "execution_count": 5,
     "metadata": {},
     "output_type": "execute_result"
    }
   ],
   "source": [
    "alpha = 1.5\n",
    "M = 12\n",
    "N = 0\n",
    "disorder = 0\n",
    "\n",
    "def trunc_shift_mie_cut1(r):\n",
    "    eps = 1\n",
    "    sigma = 1+disorder\n",
    "    rend = alpha*sigma\n",
    "    \n",
    "    if(r<=rend):\n",
    "        U = 2*eps*((sigma/r)**M-(sigma/r)**N) - 2*eps*((sigma/rend)**M-(sigma/rend)**N) \n",
    "    else:\n",
    "        U = 0\n",
    "        \n",
    "    return U\n",
    "\n",
    "def trunc_shift_mie_cut2(r):\n",
    "    eps = 1\n",
    "    sigma = 1-disorder\n",
    "    rend = alpha*sigma\n",
    "    \n",
    "    if(r<=rend):\n",
    "        U = 2*eps*((sigma/r)**M-(sigma/r)**N) - 2*eps*((sigma/rend)**M-(sigma/rend)**N) \n",
    "    else:\n",
    "        U = 0\n",
    "        \n",
    "    return U\n",
    "\n",
    "r = np.arange(.95,2.5,.0001)\n",
    "# r = np.arange(1.2-20*.0001,1.2+20*.0001,.0001)\n",
    "# r = np.arange(rmin-20*.0001,rmin+20*.0001,.0001)\n",
    "U1 = np.array(list(map(trunc_shift_mie_cut1, r)))\n",
    "plt.plot(r,U1,label='large')\n",
    "U2 = np.array(list(map(trunc_shift_mie_cut2, r)))\n",
    "plt.plot(r,U2,label='small')\n",
    "plt.legend()\n",
    "plt.show()\n",
    "\n",
    "rmin = (M/N)**(1/(M-N))*1 if N != 0 else 1\n",
    "\n",
    "sigma_rL = 1+disorder\n",
    "sigma_rS = 1-disorder\n",
    "trunc_shift_mie_cut1(rmin*sigma_rL) , trunc_shift_mie_cut2(rmin*sigma_rS)"
   ]
  },
  {
   "cell_type": "code",
   "execution_count": 65,
   "id": "310ef468",
   "metadata": {
    "ExecuteTime": {
     "end_time": "2021-10-31T22:04:23.362697Z",
     "start_time": "2021-10-31T22:04:23.171207Z"
    }
   },
   "outputs": [
    {
     "data": {
      "image/png": "[encoded data removed]",
      "text/plain": [
       "<Figure size 432x288 with 1 Axes>"
      ]
     },
     "metadata": {
      "needs_background": "light"
     },
     "output_type": "display_data"
    }
   ],
   "source": [
    "alpha = 1.5\n",
    "M = 12\n",
    "N = 6\n",
    "disorder = 0\n",
    "\n",
    "def Force_LJ(r):\n",
    "    eps = 1\n",
    "    sigma = 1+disorder\n",
    "    rmin = (M/N)**(1/(M-N))*sigma\n",
    "    r = r#*rmin\n",
    "    rend = alpha*sigma#*rmin\n",
    "    \n",
    "    if(r<=rend):\n",
    "        F = 2*eps*(M*(sigma/r)**M-N*(sigma/r)**N)/r \n",
    "    else:\n",
    "        F = 0\n",
    "        \n",
    "    return F\n",
    "\n",
    "def Force_Hooke(r):\n",
    "    r1 = 1/2\n",
    "    r2 = 1/2\n",
    "    radsum = r1+r2\n",
    "    radcut = 1.1*radsum\n",
    "    Krep = 1e5\n",
    "    Katt = 0\n",
    "    \n",
    "    if(r <= radsum):\n",
    "        F = Krep*(radsum-r)\n",
    "    elif(r > radsum and r <= radcut):\n",
    "        F = Katt*(radsum-r)\n",
    "    else:\n",
    "        F = 0\n",
    "\n",
    "    return F\n",
    "\n",
    "\n",
    "r = np.arange(.5,2.5,.0001)\n",
    "# r = np.arange(1.2-20*.0001,1.2+20*.0001,.0001)\n",
    "# r = np.arange(rmin-20*.0001,rmin+20*.0001,.0001)\n",
    "F1 = np.array(list(map(Force_LJ, r)))\n",
    "plt.plot(r,F1,label='LJ')\n",
    "U2 = np.array(list(map(Force_Hooke, r)))\n",
    "plt.plot(r,U2,label='Hooke')\n",
    "plt.legend()\n",
    "plt.show()"
   ]
  },
  {
   "cell_type": "code",
   "execution_count": 21,
   "id": "4b3c32af",
   "metadata": {
    "ExecuteTime": {
     "end_time": "2021-11-19T22:08:25.379702Z",
     "start_time": "2021-11-19T22:08:25.236226Z"
    }
   },
   "outputs": [
    {
     "data": {
      "image/png": "[encoded data removed]",
      "text/plain": [
       "<Figure size 432x288 with 1 Axes>"
      ]
     },
     "metadata": {
      "needs_background": "light"
     },
     "output_type": "display_data"
    }
   ],
   "source": [
    "def new_energy(r):\n",
    "    Katt = 100\n",
    "    Krep = 1\n",
    "    radsum = 1\n",
    "    d = .01\n",
    "    radcutmid = radsum+.5*d*radsum\n",
    "    radcut = radsum+d*radsum    \n",
    "    U_C = -Katt*radsum**2*(d**2/4+d)\n",
    "    U_end = Katt*radsum**2*d**2/4\n",
    "    if(r <= radsum):\n",
    "        U = .5*Krep*(radsum-r)**2  # end 0\n",
    "    elif(r > radsum and r <= radcutmid):\n",
    "        U = .5*Katt*(radsum-r)**2  # start 0\n",
    "    elif(r > radcutmid and r <= radcut):\n",
    "        U = -.5 * Katt*(radsum-r)**2 + Katt*d*radsum*r + U_C\n",
    "    else:\n",
    "        U = 0\n",
    "    return U\n",
    "\n",
    "r = np.arange(.5,2.5,.0001)\n",
    "U_N = np.array(list(map(new_energy, r)))\n",
    "plt.plot(r,U_N,label='new_energy')\n",
    "plt.show()"
   ]
  },
  {
   "cell_type": "markdown",
   "id": "e3273b26",
   "metadata": {},
   "source": [
    "## Check table file"
   ]
  },
  {
   "cell_type": "code",
   "execution_count": null,
   "id": "b8d53967",
   "metadata": {
    "ExecuteTime": {
     "end_time": "2021-10-13T19:48:59.605861Z",
     "start_time": "2021-10-13T19:48:59.584973Z"
    }
   },
   "outputs": [],
   "source": [
    "Check Lammps potential function\n",
    "table = open('../LAMMPS/reference/Basic_check/table_ljcut1.txt', 'r')\n",
    "lines = [line.rstrip() for line in table]\n",
    "\n",
    "for num, line in enumerate(lines, 0):\n",
    "    if 'ankit' in line:\n",
    "        break;\n",
    "\n",
    "table = []\n",
    "for num1, line in enumerate(lines[(num+3):], start=0):\n",
    "    table.append(list(map(float, line.split(\" \"))))\n",
    "    \n",
    "potential = np.array(table, np.float64)\n",
    "\n",
    "start=0\n",
    "plt.plot(potential[start:,1],potential[start:,3])\n",
    "plt.xlabel(r\"Disorder, $\\beta$\")\n",
    "plt.show()\n",
    "\n",
    "table2 = open('../Lammps/reference/table2.txt', 'r')\n",
    "lines2 = [line.rstrip() for line in table2]\n",
    "\n",
    "for num, line in enumerate(lines2, 0):\n",
    "    if 'ankit' in line:\n",
    "        break;\n",
    "\n",
    "table2 = []\n",
    "for num1, line in enumerate(lines2[(num+3):], start=0):\n",
    "    table2.append(list(map(float, line.split(\" \"))))\n",
    "    \n",
    "potential2 = np.array(table2)\n",
    "\n",
    "diff = potential2 - potential\n",
    "plt.plot(potential2[:,1],diff[:,3])"
   ]
  },
  {
   "cell_type": "markdown",
   "id": "7dff7678",
   "metadata": {},
   "source": [
    "# Hooke in LAMMPS"
   ]
  },
  {
   "cell_type": "code",
   "execution_count": 13,
   "id": "62a4bc75",
   "metadata": {
    "ExecuteTime": {
     "end_time": "2021-11-19T21:29:32.547269Z",
     "start_time": "2021-11-19T21:29:26.844729Z"
    }
   },
   "outputs": [
    {
     "data": {
      "image/png": "[encoded data removed]",
      "text/plain": [
       "<Figure size 432x288 with 1 Axes>"
      ]
     },
     "metadata": {
      "needs_background": "light"
     },
     "output_type": "display_data"
    },
    {
     "data": {
      "image/png": "[encoded data removed]",
      "text/plain": [
       "<Figure size 432x288 with 1 Axes>"
      ]
     },
     "metadata": {
      "needs_background": "light"
     },
     "output_type": "display_data"
    },
    {
     "data": {
      "text/plain": [
       "90000.0"
      ]
     },
     "execution_count": 13,
     "metadata": {},
     "output_type": "execute_result"
    }
   ],
   "source": [
    "import lammps_logfile\n",
    "\n",
    "# Reading table potential file for verification\n",
    "\n",
    "# _dir = \"/media/ankit/A_SSD/PhD/Granular_project/LAMMPS/uniaxial/Hooke/\"\n",
    "_dir = \"/media/ankit/A_SSD/PhD/Granular_project/LAMMPS/check/\"\n",
    "\n",
    "count = 2\n",
    "potential = []\n",
    "with open(_dir+\"hooke11.table\") as f:\n",
    "    line = f.readline()\n",
    "    while line:\n",
    "        count +=1\n",
    "        if(count>8):\n",
    "            potential.append([float(i) for i in line.split()])\n",
    "#             print(line)\n",
    "        line = f.readline()\n",
    "\n",
    "K = int(.75*2000000)\n",
    "potential = np.array(potential)\n",
    "plt.plot(potential[K:,1],potential[K:,3],label='Force')\n",
    "plt.legend()\n",
    "plt.show()\n",
    "\n",
    "plt.plot(potential[K:,1],potential[K:,2],label='Potential')\n",
    "plt.legend()\n",
    "plt.show()\n",
    "potential[0,3]"
   ]
  },
  {
   "cell_type": "code",
   "execution_count": 57,
   "id": "fbe3f4e2",
   "metadata": {
    "ExecuteTime": {
     "end_time": "2021-10-31T03:45:49.633594Z",
     "start_time": "2021-10-31T03:45:48.925861Z"
    }
   },
   "outputs": [
    {
     "data": {
      "text/plain": [
       "(1818181,\n",
       " -4.99999999900724,\n",
       " -0.014090907063391,\n",
       " -0.014090906996777619,\n",
       " 1.00000014090907)"
      ]
     },
     "execution_count": 57,
     "metadata": {},
     "output_type": "execute_result"
    }
   ],
   "source": [
    "## Just comparing if for distance\n",
    "\n",
    "# potential[:,2]\n",
    "# min(potential[:,1], key=lambda x:abs(x-1))\n",
    "\n",
    "r = potential[:,1]\n",
    "ri = min(range(len(r)), key=lambda i: abs(r[i]-1))     # Calculating delta,\n",
    "# index where delta is min (that is closest to 0), energy calc by lammps at ri, force calc by lammps at ri, Force at ri , r at ri\n",
    "ri, potential[ri,2], potential[ri,3], (1-potential[ri,1])*10**5, potential[ri,1]   "
   ]
  },
  {
   "cell_type": "code",
   "execution_count": 26,
   "id": "93f4a013",
   "metadata": {
    "ExecuteTime": {
     "end_time": "2021-10-31T03:16:54.550991Z",
     "start_time": "2021-10-31T03:16:54.499387Z"
    }
   },
   "outputs": [
    {
     "ename": "NameError",
     "evalue": "name 'Force_Hooke' is not defined",
     "output_type": "error",
     "traceback": [
      "\u001b[0;31m---------------------------------------------------------------------------\u001b[0m",
      "\u001b[0;31mNameError\u001b[0m                                 Traceback (most recent call last)",
      "\u001b[0;32m<ipython-input-26-7f633279ab36>\u001b[0m in \u001b[0;36m<module>\u001b[0;34m\u001b[0m\n\u001b[1;32m      1\u001b[0m \u001b[0mr\u001b[0m \u001b[0;34m=\u001b[0m \u001b[0mpotential\u001b[0m\u001b[0;34m[\u001b[0m\u001b[0;34m:\u001b[0m\u001b[0;34m,\u001b[0m\u001b[0;36m1\u001b[0m\u001b[0;34m]\u001b[0m\u001b[0;34m\u001b[0m\u001b[0;34m\u001b[0m\u001b[0m\n\u001b[0;32m----> 2\u001b[0;31m \u001b[0mU2\u001b[0m \u001b[0;34m=\u001b[0m \u001b[0mnp\u001b[0m\u001b[0;34m.\u001b[0m\u001b[0marray\u001b[0m\u001b[0;34m(\u001b[0m\u001b[0mlist\u001b[0m\u001b[0;34m(\u001b[0m\u001b[0mmap\u001b[0m\u001b[0;34m(\u001b[0m\u001b[0mForce_Hooke\u001b[0m\u001b[0;34m,\u001b[0m \u001b[0mr\u001b[0m\u001b[0;34m)\u001b[0m\u001b[0;34m)\u001b[0m\u001b[0;34m)\u001b[0m\u001b[0;34m\u001b[0m\u001b[0;34m\u001b[0m\u001b[0m\n\u001b[0m\u001b[1;32m      3\u001b[0m \u001b[0mplt\u001b[0m\u001b[0;34m.\u001b[0m\u001b[0mplot\u001b[0m\u001b[0;34m(\u001b[0m\u001b[0mr\u001b[0m\u001b[0;34m,\u001b[0m\u001b[0mU2\u001b[0m\u001b[0;34m-\u001b[0m\u001b[0mpotential\u001b[0m\u001b[0;34m[\u001b[0m\u001b[0;34m:\u001b[0m\u001b[0;34m,\u001b[0m\u001b[0;36m3\u001b[0m\u001b[0;34m]\u001b[0m\u001b[0;34m,\u001b[0m\u001b[0mlabel\u001b[0m\u001b[0;34m=\u001b[0m\u001b[0;34m'Force diff'\u001b[0m\u001b[0;34m)\u001b[0m\u001b[0;34m\u001b[0m\u001b[0;34m\u001b[0m\u001b[0m\n\u001b[1;32m      4\u001b[0m \u001b[0mplt\u001b[0m\u001b[0;34m.\u001b[0m\u001b[0mlegend\u001b[0m\u001b[0;34m(\u001b[0m\u001b[0;34m)\u001b[0m\u001b[0;34m\u001b[0m\u001b[0;34m\u001b[0m\u001b[0m\n\u001b[1;32m      5\u001b[0m \u001b[0mplt\u001b[0m\u001b[0;34m.\u001b[0m\u001b[0mshow\u001b[0m\u001b[0;34m(\u001b[0m\u001b[0;34m)\u001b[0m\u001b[0;34m\u001b[0m\u001b[0;34m\u001b[0m\u001b[0m\n",
      "\u001b[0;31mNameError\u001b[0m: name 'Force_Hooke' is not defined"
     ]
    }
   ],
   "source": [
    "r = potential[:,1]\n",
    "U2 = np.array(list(map(Force_Hooke, r)))\n",
    "plt.plot(r,U2-potential[:,3],label='Force diff')\n",
    "plt.legend()\n",
    "plt.show()"
   ]
  },
  {
   "cell_type": "code",
   "execution_count": 58,
   "id": "881e1373",
   "metadata": {
    "ExecuteTime": {
     "end_time": "2021-10-31T03:46:33.362927Z",
     "start_time": "2021-10-31T03:46:33.203236Z"
    }
   },
   "outputs": [
    {
     "name": "stdout",
     "output_type": "stream",
     "text": [
      "10001\n",
      "10001\n",
      "10001\n",
      "10001\n"
     ]
    },
    {
     "data": {
      "image/png": "[encoded data removed]",
      "text/plain": [
       "<Figure size 432x288 with 1 Axes>"
      ]
     },
     "metadata": {
      "needs_background": "light"
     },
     "output_type": "display_data"
    }
   ],
   "source": [
    "import numpy as np\n",
    "import matplotlib.pyplot as plt\n",
    "import pandas as pd\n",
    "import networkx as net\n",
    "import lammps_logfile\n",
    "\n",
    "# scaler = MinMaxScaler()\n",
    "\n",
    "_dir = \"/media/ankit/A_SSD/PhD/Granular_project/LAMMPS/check/\"\n",
    "\n",
    "log = lammps_logfile.File(_dir+\"log.lammps\")\n",
    "\n",
    "K1 = 0\n",
    "# K2 = \n",
    "step = 1\n",
    "timestep = log.data_dict['v_t'][1]-log.data_dict['v_t'][0]\n",
    "plt.title('nve')\n",
    "plt.xlabel('distance, r')\n",
    "plt.ylabel('Joules')\n",
    "t = log.data_dict['v_t'][K1:]\n",
    "\n",
    "\n",
    "KE = (log.data_dict['KinEng'][K1:])\n",
    "PE = (log.data_dict['PotEng'][K1:])\n",
    "TE = (log.data_dict['TotEng'][K1:])\n",
    "# TE = (log.data_dict['TotEng'][K1:])\n",
    "\n",
    "print(len(log.data_dict['Step']))\n",
    "print(len(log.data_dict['PotEng']))\n",
    "print(len(log.data_dict['KinEng']))\n",
    "print(len(log.data_dict['TotEng']))\n",
    "\n",
    "# plt.plot(log.data_dict['v_dimerdistance'],KE,label='KinEng_small')\n",
    "plt.plot(log.data_dict['v_dimerdistance'][K1:],PE,label='PotEng')\n",
    "# plt.plot(PE+KE,label='SumEng')\n",
    "# plt.plot(1-log.data_dict['v_dimerdistance'],TE,label='TotEng')\n",
    "plt.legend()\n",
    "plt.show()"
   ]
  },
  {
   "cell_type": "code",
   "execution_count": 59,
   "id": "2377aa00",
   "metadata": {
    "ExecuteTime": {
     "end_time": "2021-10-31T03:46:54.423108Z",
     "start_time": "2021-10-31T03:46:54.039282Z"
    }
   },
   "outputs": [
    {
     "data": {
      "image/png": "[encoded data removed]",
      "text/plain": [
       "<Figure size 432x288 with 1 Axes>"
      ]
     },
     "metadata": {
      "needs_background": "light"
     },
     "output_type": "display_data"
    }
   ],
   "source": [
    "file1 = open(_dir+'dump.neigh', 'r')\n",
    "lines = [line.rstrip() for line in file1]\n",
    "\n",
    "file2 = open(_dir+'visualize.du', 'r')\n",
    "lines2 = [line.rstrip() for line in file2]\n",
    "\n",
    "num_start = 0\n",
    "graph_list = []\n",
    "pairwise_list = np.empty([0,8])\n",
    "frame = 0\n",
    "for num1, line in enumerate(lines, 0):\n",
    "    if 'ITEM' in line:\n",
    "        if 'ITEM: TIMESTEP' in line:\n",
    "            curr_timestep1 = int(lines[num1+1])\n",
    "        if 'ITEM: NUMBER OF ENTRIES' in line:\n",
    "            num_entries = int(lines[num1+1])\n",
    "            table = []\n",
    "        if 'ITEM: ENTRIES' in line:\n",
    "            x = lines[num1+1:num1+1+num_entries]\n",
    "            for i in range(len(x)):\n",
    "                table.append(list(map(float, x[i].split(\" \"))))\n",
    "                \n",
    "            pairwise = np.array(table.copy())\n",
    "            if len(pairwise):\n",
    "                pairwise_list = np.append(pairwise_list,pairwise,axis=0)\n",
    "            else:\n",
    "                pairwise_list = np.append(pairwise_list,np.zeros([1,8]),axis=0)\n",
    "#             for num, line in enumerate(lines2, num_start):\n",
    "#                 if 'ITEM' in line:\n",
    "#                     if 'ITEM: TIMESTEP' in line:\n",
    "#                         curr_timestep2 = int(lines2[num+1])\n",
    "#                         print(num, curr_timestep2, curr_timestep1)\n",
    "#                     if 'ITEM: NUMBER OF ATOMS' in line:\n",
    "#                         num_entries2 = int(lines2[num+1])\n",
    "#                         table = []\n",
    "#                     if 'ITEM: ATOMS' in line:\n",
    "#                         x = lines2[num+1:num+1+num_entries2]\n",
    "#                         for i in range(len(x)):\n",
    "#                             table.append(list(map(float, x[i].split(\" \"))))\n",
    "                                            \n",
    "#                         grains = np.array(table.copy())\n",
    "#                         grains = grains[grains[:, 0].argsort()]\n",
    "#                         num_start = num+1+num_entries2\n",
    "#                         break;\n",
    "\n",
    "plt.plot(log.data_dict['v_dimerdistance'],-pairwise_list[:,5],label='force')\n",
    "# plt.plot(PE+KE,label='SumEng')\n",
    "# plt.plot(TE,label='TotEng')\n",
    "plt.legend()\n",
    "plt.show()"
   ]
  },
  {
   "cell_type": "code",
   "execution_count": null,
   "id": "503acaa7",
   "metadata": {
    "ExecuteTime": {
     "end_time": "2021-10-21T02:43:02.857825Z",
     "start_time": "2021-10-21T02:43:02.847004Z"
    }
   },
   "outputs": [],
   "source": [
    "10**5*(1-0.999999994900998), .5*10**5*(1-0.999999994900998)**2 \n",
    "# xp = [0.999999994900998, 1.00000049990075]\n",
    "# fp = [0.000509900244249906, 0]\n",
    "# np.interp(1, xp, fp)"
   ]
  },
  {
   "cell_type": "markdown",
   "id": "c6663d77",
   "metadata": {},
   "source": [
    "# Decide NVE + Langevin or MVT for Pressure Stabilisation"
   ]
  },
  {
   "cell_type": "code",
   "execution_count": 148,
   "id": "7ad106e3",
   "metadata": {
    "ExecuteTime": {
     "end_time": "2021-11-02T20:07:37.008907Z",
     "start_time": "2021-11-02T20:07:36.684367Z"
    }
   },
   "outputs": [
    {
     "data": {
      "image/png": "[encoded data removed]",
      "text/plain": [
       "<Figure size 432x288 with 1 Axes>"
      ]
     },
     "metadata": {
      "needs_background": "light"
     },
     "output_type": "display_data"
    },
    {
     "data": {
      "image/png": "[encoded data removed]",
      "text/plain": [
       "<Figure size 432x288 with 1 Axes>"
      ]
     },
     "metadata": {
      "needs_background": "light"
     },
     "output_type": "display_data"
    },
    {
     "data": {
      "image/png": "[encoded data removed]",
      "text/plain": [
       "<Figure size 432x288 with 1 Axes>"
      ]
     },
     "metadata": {
      "needs_background": "light"
     },
     "output_type": "display_data"
    }
   ],
   "source": [
    "import lammps_logfile\n",
    "\n",
    "# Reading table potential file for verification\n",
    "\n",
    "_dir = \"/media/ankit/A_SSD/PhD/Granular_project/LAMMPS/uniaxial/Hooke/\"\n",
    "\n",
    "log = lammps_logfile.File(_dir+\"log.lammps\")\n",
    "\n",
    "K1 = 0\n",
    "K2 = -1\n",
    "step = 1\n",
    "timestep = log.data_dict['v_t'][1]-log.data_dict['v_t'][0]\n",
    "plt.title('nve')\n",
    "plt.xlabel('strain %')\n",
    "plt.ylabel('Joules')\n",
    "\n",
    "t = log.data_dict['v_t'][K1:K2:step]\n",
    "KE = (log.data_dict['KinEng'][K1:K2:step])\n",
    "PE = (log.data_dict['PotEng'][K1:K2:step])\n",
    "TE = (log.data_dict['TotEng'][K1:K2:step])\n",
    "press = (log.data_dict['v_p2'][K1:K2:step])\n",
    "strain = abs(log.data_dict['v_strain'][K1:K2:step])*100\n",
    "\n",
    "# plt.plot(strain,KE,label='KinEng_small')\n",
    "plt.plot(strain,PE,label='PotEng')\n",
    "# plt.plot(PE+KE,label='SumEng')\n",
    "# plt.plot(TE,label='TotEng')\n",
    "# plt.plot(log.data_dict['v_iforce'])\n",
    "plt.legend()\n",
    "plt.show()\n",
    "\n",
    "plt.plot(press,label='pressure')\n",
    "plt.legend()\n",
    "plt.xlabel('strain %')\n",
    "plt.show()\n",
    "\n",
    "plt.plot(strain,label='strain')\n",
    "plt.legend()\n",
    "plt.xlabel('strain %')\n",
    "plt.show()"
   ]
  }
 ],
 "metadata": {
  "kernelspec": {
   "display_name": "Python [conda env:mlenv] *",
   "language": "python",
   "name": "conda-env-mlenv-py"
  },
  "language_info": {
   "codemirror_mode": {
    "name": "ipython",
    "version": 3
   },
   "file_extension": ".py",
   "mimetype": "text/x-python",
   "name": "python",
   "nbconvert_exporter": "python",
   "pygments_lexer": "ipython3",
   "version": "3.7.7"
  },
  "latex_envs": {
   "LaTeX_envs_menu_present": true,
   "autoclose": false,
   "autocomplete": true,
   "bibliofile": "biblio.bib",
   "cite_by": "apalike",
   "current_citInitial": 1,
   "eqLabelWithNumbers": true,
   "eqNumInitial": 1,
   "hotkeys": {
    "equation": "Ctrl-E",
    "itemize": "Ctrl-I"
   },
   "labels_anchors": false,
   "latex_user_defs": false,
   "report_style_numbering": false,
   "user_envs_cfg": false
  },
  "toc": {
   "base_numbering": 1,
   "nav_menu": {},
   "number_sections": true,
   "sideBar": true,
   "skip_h1_title": false,
   "title_cell": "Table of Contents",
   "title_sidebar": "Contents",
   "toc_cell": false,
   "toc_position": {},
   "toc_section_display": true,
   "toc_window_display": false
  },
  "varInspector": {
   "cols": {
    "lenName": 16,
    "lenType": 16,
    "lenVar": 40
   },
   "kernels_config": {
    "python": {
     "delete_cmd_postfix": "",
     "delete_cmd_prefix": "del ",
     "library": "var_list.py",
     "varRefreshCmd": "print(var_dic_list())"
    },
    "r": {
     "delete_cmd_postfix": ") ",
     "delete_cmd_prefix": "rm(",
     "library": "var_list.r",
     "varRefreshCmd": "cat(var_dic_list()) "
    }
   },
   "types_to_exclude": [
    "module",
    "function",
    "builtin_function_or_method",
    "instance",
    "_Feature"
   ],
   "window_display": false
  }
 },
 "nbformat": 4,
 "nbformat_minor": 5
}
