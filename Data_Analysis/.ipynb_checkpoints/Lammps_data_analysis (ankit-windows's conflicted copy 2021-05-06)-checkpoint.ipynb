{
 "cells": [
  {
   "cell_type": "code",
   "execution_count": 1,
   "metadata": {
    "ExecuteTime": {
     "end_time": "2021-12-06T04:01:28.678509Z",
     "start_time": "2021-12-06T04:01:27.833200Z"
    }
   },
   "outputs": [],
   "source": [
    "import numpy as np\n",
    "import matplotlib.pyplot as plt\n",
    "import pandas as pd\n",
    "import networkx as net\n",
    "import h5py\n",
    "\n",
    "# _dir = '/home/ankit/Desktop/My_local_work/project_temp/Granular_project/results/'"
   ]
  },
  {
   "cell_type": "code",
   "execution_count": 2,
   "metadata": {
    "ExecuteTime": {
     "end_time": "2021-12-06T04:01:38.114884Z",
     "start_time": "2021-12-06T04:01:30.995425Z"
    }
   },
   "outputs": [],
   "source": [
    "from mayavi import mlab\n",
    "import numpy as np\n",
    "\n",
    "# Create a sphere\n",
    "r = 1.0\n",
    "pi = np.pi/2\n",
    "cos = np.cos\n",
    "sin = np.sin\n",
    "phi, theta = np.mgrid[0:pi:101j, 0:pi:101j]\n",
    "\n",
    "x = r*sin(phi)*cos(theta)\n",
    "y = r*sin(phi)*sin(theta)\n",
    "z = r*cos(phi)\n",
    "\n",
    "mlab.figure(1, bgcolor=(1, 1, 1), fgcolor=(0, 0, 0), size=(400, 300))\n",
    "mlab.clf()\n",
    "\n",
    "# data = np.genfromtxt('leb.txt')\n",
    "# xx, yy, zz = np.hsplit(data, 3)\n",
    "\n",
    "\n",
    "mlab.mesh(x , y , z, color=(0.0,0.5,0.5), opacity = .7)\n",
    "# # mx = m.actor.actor.rotate_x(90)\n",
    "# # mlab.gcf().scene.parallel_projection = True\n",
    "# # mlab.points3d(xx, yy, zz, scale_factor=0.05)\n",
    "\n",
    "obj1 = mlab.quiver3d(0, 0, 0, 0, 4, 0, line_width=0, colormap='hsv', \n",
    "                scale_factor=.5, color= (1, 0, 0), mode='arrow',resolution=25)\n",
    "obj2 = mlab.quiver3d(0, 0, 0, 4, 0, 0, line_width=0, colormap='hsv', \n",
    "                scale_factor=0.5,color= (0, 1, 0),  mode='arrow',resolution=25)\n",
    "obj3 = mlab.quiver3d(0, 0, 0, 0, 0, 4, line_width=0, colormap='hsv', \n",
    "                scale_factor=0.5, color= (0, 0, 1), mode='arrow',resolution=25)\n",
    "\n",
    "obj1.glyph.glyph_source.glyph_source.tip_length = 0.2\n",
    "obj1.glyph.glyph_source.glyph_source.tip_radius = 0.03\n",
    "obj1.glyph.glyph_source.glyph_source.shaft_radius = 0.01\n",
    "\n",
    "obj2.glyph.glyph_source.glyph_source.tip_length = 0.2\n",
    "obj2.glyph.glyph_source.glyph_source.tip_radius = 0.03\n",
    "obj2.glyph.glyph_source.glyph_source.shaft_radius = 0.01\n",
    "\n",
    "obj3.glyph.glyph_source.glyph_source.tip_length = 0.2\n",
    "obj3.glyph.glyph_source.glyph_source.tip_radius = 0.03\n",
    "obj3.glyph.glyph_source.glyph_source.shaft_radius = 0.01\n",
    "\n",
    "mlab.text3d(2, 0, -.1, 'Cohesion', scale=[.1,.1,.1], orientation=[0,0,0])\n",
    "mlab.text3d(.4, 1.85, 0, 'Size-Disorder', scale=[.1,.1,.1], orientation=[0,0,0])\n",
    "mlab.text3d(0, 0, 2, 'Force Chains', scale=[.1,.1,.1], orientation=[0,0,0])\n",
    "mlab.text3d(0, 0, 0, 'Crystalline orderd system', scale=[.1,.1,.1], orientation=[0,0,0])\n",
    "\n",
    "mlab.points3d(0, 0, 0, colormap=\"copper\", scale_factor=.1)\n",
    "\n",
    "# mlab.quiver3d(-.1, 1, .1, 0, 1, 0, color= (0, 0, 0) ,line_width=1.5, scale_factor=1)\n",
    "\n",
    "# mlab.quiver3d(0, 1, .1, 1, 0, 0, color= (0, 0, 0) ,line_width=1.5, scale_factor=1)\n",
    "\n",
    "# mlab.quiver3d(0, 0, 0, 4, 0, 0, color= (0, 0, 0),line_width=1, scale_factor=.5)\n",
    "# mlab.quiver3d(0, 0, 0, 0, 0, 4, color= (0, 0, 0),line_width=1, scale_factor=.5)\n",
    "mlab.show()"
   ]
  },
  {
   "cell_type": "code",
   "execution_count": null,
   "metadata": {
    "ExecuteTime": {
     "start_time": "2021-11-26T02:19:39.417Z"
    }
   },
   "outputs": [],
   "source": [
    "import numpy as np\n",
    "\n",
    "def V(x, y, z):\n",
    "    \"\"\" A 3D sinusoidal lattice with a parabolic confinement. \"\"\"\n",
    "    return np.cos(10*x) + np.cos(10*y) + np.cos(10*z) + 2*(x**2 + y**2 + z**2)\n",
    "\n",
    "X, Y, Z = np.mgrid[-2:2:100j, -2:2:100j, -2:2:100j]\n",
    "mlab.contour3d(X, Y, Z, V)"
   ]
  },
  {
   "cell_type": "code",
   "execution_count": null,
   "metadata": {},
   "outputs": [],
   "source": [
    "from mayavi import mlab\n",
    "import numpy as np\n",
    "from scipy.special import sph_harm\n",
    "\n",
    "[theta,phi] = np.mgrid[0:np.pi/2:400j,0:np.pi:180j]\n",
    "x = np.sin(phi)*np.cos(theta)\n",
    "y = np.sin(phi)*np.sin(theta)\n",
    "z = np.cos(phi)\n",
    "\n",
    "mlab.figure(1, bgcolor=(1, 1, 1), fgcolor=(0, 0, 0), size=(400, 300))\n",
    "mlab.clf()\n",
    "\n",
    "def plot_sphere(p,ang_x):\n",
    "    m=0\n",
    "    n=2\n",
    "    s = sph_harm(m, n, theta , phi).real\n",
    "    r,a,b,c = p\n",
    "    m = mlab.mesh(r*x+a, r*y+b, r*z+c, scalars=s, colormap='jet', resolution=50, opacity=0.9, transparent=False)  \n",
    "    mx = m.actor.actor.rotate_x(ang_x)\n",
    "    return \n",
    "\n",
    "#c = np.loadtxt(\"../data/d1.dat\") \n",
    "c = [[10.0, 45.89, -10.99, -38.79], [10.0, 15.17, -22.34, -41.31]]\n",
    "plot_sphere(c[0],0)\n",
    "# plot_sphere(c[1],90)\n",
    "#for k in range(2):\n",
    "#    plot_sphere(c[k])\n",
    "\n",
    "\n",
    "mlab.show()"
   ]
  },
  {
   "cell_type": "code",
   "execution_count": null,
   "metadata": {},
   "outputs": [],
   "source": [
    "import matplotlib.pyplot as plt\n",
    "from mpl_toolkits.mplot3d import Axes3D\n",
    "import numpy as np\n",
    "import plotly.graph_objects as go\n",
    "\n",
    "\n",
    "fig,axes = plt.subplots(ncols=1,nrows=1,subplot_kw=dict(projection='3d'))\n",
    "\n",
    "N=20\n",
    "stride=1\n",
    "ax = axes\n",
    "u = np.linspace(np.pi/2, 0, N)\n",
    "v = np.linspace(np.pi/2,0 , N)\n",
    "x = np.outer(np.cos(u), np.sin(v))\n",
    "y = np.outer(np.sin(u), np.sin(v))\n",
    "z = np.outer(np.ones(np.size(u)), np.cos(v))\n",
    "ax.plot_surface(x, y, z, linewidth=2.0, cstride=stride, rstride=stride)\n",
    "ax.view_init(azim=60, elev=30)\n",
    "ax.grid(False)\n",
    "\n",
    "ax.quiver(0, 0, 0, 0, 1.5, 0, \n",
    " arrow_length_ratio=.1)\n",
    "ax.quiver(0, 0, 0,1.5, 0, 0, \n",
    " arrow_length_ratio=0.1)\n",
    "ax.quiver(0, 0, 0, 0, 0, 1.5, \n",
    " arrow_length_ratio=0.1)\n",
    "limt = 1.5\n",
    "ax.set_xlim([-limt, limt])\n",
    "ax.set_ylim([-limt, limt])\n",
    "ax.set_zlim([-limt, limt])\n",
    "plt.axis('off')\n",
    "plt.show()"
   ]
  },
  {
   "cell_type": "code",
   "execution_count": null,
   "metadata": {
    "ExecuteTime": {
     "end_time": "2021-04-29T13:04:29.073467Z",
     "start_time": "2021-04-29T13:04:28.988693Z"
    }
   },
   "outputs": [],
   "source": [
    "# Save file with final configurations\n",
    "import sys\n",
    "f = []\n",
    "for i in range(100):\n",
    "    f.append([i+1,int(1),1.0,1.0,grains[i,2],grains[i,3], 0.0])\n",
    "data1 = np.array(f)\n",
    "np.savetxt('check.txt',data1,fmt='%i %i %1.1f %1.1f %1.4f %1.4f %1.4f')    "
   ]
  },
  {
   "cell_type": "markdown",
   "metadata": {},
   "source": [
    "# Analyzing potential functions"
   ]
  },
  {
   "cell_type": "markdown",
   "metadata": {},
   "source": [
    "## Check Leonard jones in Lammps"
   ]
  },
  {
   "cell_type": "code",
   "execution_count": null,
   "metadata": {
    "ExecuteTime": {
     "end_time": "2021-04-13T13:55:10.308649Z",
     "start_time": "2021-04-13T13:55:10.195697Z"
    },
    "scrolled": true
   },
   "outputs": [],
   "source": [
    "# Check Lammps potential function\n",
    "table = open('../LAMMPS/reference/Basic_check/table_ljcut1.txt', 'r')\n",
    "lines = [line.rstrip() for line in table]\n",
    "\n",
    "for num, line in enumerate(lines, 0):\n",
    "    if 'ankit' in line:\n",
    "        break;\n",
    "\n",
    "table = []\n",
    "for num1, line in enumerate(lines[(num+3):], start=0):\n",
    "    table.append(list(map(float, line.split(\" \"))))\n",
    "    \n",
    "potential = np.array(table, np.float64)\n",
    "\n",
    "start=0\n",
    "plt.plot(potential[start:,1],potential[start:,3])\n",
    "plt.show()\n",
    "\n",
    "# table2 = open('../Lammps/reference/table2.txt', 'r')\n",
    "# lines2 = [line.rstrip() for line in table2]\n",
    "\n",
    "# for num, line in enumerate(lines2, 0):\n",
    "#     if 'ankit' in line:\n",
    "#         break;\n",
    "\n",
    "# table2 = []\n",
    "# for num1, line in enumerate(lines2[(num+3):], start=0):\n",
    "#     table2.append(list(map(float, line.split(\" \"))))\n",
    "    \n",
    "# potential2 = np.array(table2)\n",
    "\n",
    "# diff = potential2 - potential\n",
    "# plt.plot(potential2[:,1],diff[:,3])"
   ]
  },
  {
   "cell_type": "markdown",
   "metadata": {
    "ExecuteTime": {
     "end_time": "2021-05-05T17:49:00.463808Z",
     "start_time": "2021-05-05T17:49:00.457839Z"
    }
   },
   "source": [
    "## Potential functions"
   ]
  },
  {
   "cell_type": "code",
   "execution_count": null,
   "metadata": {
    "ExecuteTime": {
     "end_time": "2021-05-05T17:49:46.901324Z",
     "start_time": "2021-05-05T17:49:46.778800Z"
    },
    "code_folding": [
     0,
     8,
     21,
     54,
     65,
     77
    ]
   },
   "outputs": [],
   "source": [
    "def leonard_jones(r):\n",
    "    eps = 1\n",
    "    sigma = 1\n",
    "    \n",
    "    U = 4*eps*((sigma/r)**12-(sigma/r)**6)\n",
    "    \n",
    "    return U\n",
    "    \n",
    "def trunc_leonard_jones(r):\n",
    "    \n",
    "    eps = 1\n",
    "    sigma = 1\n",
    "    rend = 1.2\n",
    "    \n",
    "    if(r<=rend):\n",
    "        U = 4*eps*((sigma/r)**12-(sigma/r)**6)\n",
    "    else:\n",
    "        U = 0\n",
    "        \n",
    "    return U\n",
    "\n",
    "def trunc_leonard_jones2(r):\n",
    "    \n",
    "    eps = 1.0\n",
    "    sigma = 1.0\n",
    "    rend = 1\n",
    "    \n",
    "    r2inv  = (sigma/r)**2\n",
    "    rinv6  = r2inv*r2inv*r2inv\n",
    "    lj1 = 4*eps\n",
    "    lj2 = 4*eps\n",
    "    \n",
    "    if(r<=rend):\n",
    "        U = rinv6*(lj1*rinv6-lj2)\n",
    "    else:\n",
    "        U = 0\n",
    "        \n",
    "    return U\n",
    "    \n",
    "def trunc_shift_leonard_jones(r):\n",
    "    eps = 1\n",
    "    sigma = 1\n",
    "    # 2.5*sigma  for liquid #\n",
    "    rend = 2.5\n",
    "    \n",
    "    if(r<=rend):\n",
    "        U = 4*eps*((sigma/r)**12-(sigma/r)**6) - 4*eps*((sigma/rend)**12-(sigma/rend)**6) \n",
    "    else:\n",
    "        U = 0\n",
    "        \n",
    "    return U\n",
    "    \n",
    "from itertools import repeat\n",
    "\n",
    "def soft_sphere(r, n):\n",
    "    eps = .0002\n",
    "    sigma = 1\n",
    "    \n",
    "    if(r<=sigma):\n",
    "        U = eps*(sigma/r)**n \n",
    "    else:\n",
    "        U = 0\n",
    "        \n",
    "    return U\n",
    "\n",
    "def lammps_soft(r, n=12):\n",
    "    \n",
    "    rend = 1\n",
    "    A = 1\n",
    "    if(r<=rend):\n",
    "        U = A*((2+np.cos(np.pi*r/rend))**n-1)\n",
    "#         U = A*((1+np.cos(np.pi*r/rend))**n)\n",
    "    else:\n",
    "        U = 0\n",
    "        \n",
    "    return U\n",
    "\n",
    "def hooke(r):\n",
    "    \n",
    "    sigma = .5\n",
    "    rend = 2*sigma\n",
    "    K = 10000\n",
    "    if(r<=rend):\n",
    "        U = K*(rend-r)**2\n",
    "    else:\n",
    "        U = 0\n",
    "        \n",
    "    return U\n",
    "\n",
    "r = np.arange(-10,10,.01)\n",
    "U = np.array(list(map(trunc_shift_leonard_jones, r)))\n",
    "plt.plot(r,U)\n",
    "plt.plot(np.zeros(r.shape), r-1,'black')\n",
    "plt.plot(r,np.zeros(r.shape),'black')\n",
    "plt.ylim((2*min(U), 3))\n",
    "plt.xlim((-.1, 3))\n",
    "plt.xlabel(\"r, distance\")\n",
    "plt.ylabel(\"U, energy\")\n",
    "plt.title(\"M=12, N=6, $r_c$=2.5\")\n",
    "# plt.legend(['soft','LJ','hooke'])\n",
    "plt.ylim(-2, 4)\n",
    "plt.show()"
   ]
  },
  {
   "cell_type": "code",
   "execution_count": null,
   "metadata": {},
   "outputs": [],
   "source": []
  },
  {
   "cell_type": "code",
   "execution_count": null,
   "metadata": {
    "ExecuteTime": {
     "end_time": "2021-05-04T22:26:05.809360Z",
     "start_time": "2021-05-04T22:26:05.797948Z"
    }
   },
   "outputs": [],
   "source": [
    "# rmin will remains the same no affect due to shift\n",
    "# My initial condition of rminX.95 is such that particles \n",
    "# overlap for effective particle size\n",
    "# My initial condition of rminX1.05 is such that particles \n",
    "# do not overlap for effective particle size\n",
    "# Hence .95 or 1.05 is very large values\n",
    "\n",
    "sigma = 1\n",
    "rend = 1.2\n",
    "gamma_rep = 12\n",
    "gamma_att = 6\n",
    "r_min = (gamma_rep/gamma_att)**(1/(gamma_rep-gamma_att))\n",
    "r_initial = r_min*.953\n",
    "K = -((sigma/rend)**gamma_rep-(sigma/rend)**gamma_att)\n",
    "r_eff = sigma/((1+np.sqrt(1-4*K))/2)**(1/6)\n",
    "# If I want effective sized particles to just touch, not overlap\n",
    "print(\"Effective particle size\", r_eff, mie_potential(r_eff,6,sigma))\n",
    "print(\"Minimum Energy position\", r_min, mie_potential(r_min,6,sigma))\n",
    "print(\"Initial position Energy\", r_initial, mie_potential(r_initial,6,sigma))\n",
    "print(\"Initial condition factor just touch\",r_eff/r_min)\n",
    "print(\"How far is effective particle surface from rmin relatively\",(r_min-r_eff)/r_min)"
   ]
  },
  {
   "cell_type": "markdown",
   "metadata": {},
   "source": [
    "## Hard sphere"
   ]
  },
  {
   "cell_type": "code",
   "execution_count": null,
   "metadata": {
    "ExecuteTime": {
     "end_time": "2021-05-05T19:42:42.193713Z",
     "start_time": "2021-05-05T19:42:42.075568Z"
    }
   },
   "outputs": [],
   "source": [
    "def mie_potential(r,m,n,r_cut,sigma):\n",
    "    \n",
    "    eps = 1\n",
    "    sigma = sigma # Defines when the repulsion should start\n",
    "    rend = r_cut\n",
    "    \n",
    "    r_ = r \n",
    "    gamma_rep = m\n",
    "    gamma_att = 0\n",
    "    C = 4 #gamma_rep/(gamma_rep-gamma_att)*(gamma_rep/gamma_att)**(gamma_att/(gamma_rep-gamma_att))\n",
    "    if(r<=rend):\n",
    "        U = C*eps*((sigma/r_)**gamma_rep-(sigma/r_)**gamma_att)  - C*eps*((sigma/rend)**gamma_rep-(sigma/rend)**gamma_att) \n",
    "    else:\n",
    "        U = 0\n",
    "        \n",
    "    return U\n",
    "\n",
    "r = np.arange(.01,2,.001)\n",
    "# M = [6,8,16,32,64,128]\n",
    "# for m in M:\n",
    "#     U1 = [mie_potential(x,1.2,1.05,m) for x in r]\n",
    "#     plt.plot(r,U1, label=str(m))\n",
    "    \n",
    "# S = [.5,.85,.95,1,1.05,1.10,1.15,1.2]\n",
    "# M = 12\n",
    "# N = 6\n",
    "# r_cut = 1\n",
    "# for s in S:\n",
    "#     U1 = np.array([mie_potential(x,M,N,r_cut,s) for x in r])\n",
    "#     plt.plot(r,U1, label=str(s))\n",
    "#     print(s,np.sum(U1[r > s]>0))\n",
    "  \n",
    "# plt.title(\"M=\"+str(M)+\" N=\"+str(N)+\" r_cut=\"+str(r_cut))\n",
    "# plt.legend(title=\"sigma\",loc='upper right')\n",
    "    \n",
    "# r_cut = [.5,.85,.95,1,1.05,1.10,1.15,1.2]\n",
    "# M = 12\n",
    "# N = 6\n",
    "# sigma = 1\n",
    "# for R in r_cut:\n",
    "#     U1 = np.array([mie_potential(x,M,N,R,sigma) for x in r])\n",
    "#     plt.plot(r,U1, label=str(R))\n",
    "#     print(R,np.sum(U1[r > R]>0))\n",
    " \n",
    "# plt.title(\"M=\"+str(M)+\" N=\"+str(N)+\" sigma=\"+str(sigma))\n",
    "# plt.legend(title=\"r_cut\",loc='upper right')\n",
    "\n",
    "\n",
    "# r_cut = [.5,.85,.95,1,1.05,1.10,1.15,1.2]\n",
    "# r_cut = [1,1.2]\n",
    "# M = 128\n",
    "# N = 0\n",
    "# sigma = 1\n",
    "# for R in r_cut:\n",
    "#     U1 = np.array([mie_potential(x+R-1,M,N,R,R) for x in r])\n",
    "#     plt.plot(r,U1, label=str(R))\n",
    "#     print(R-1,R,np.sum(U1[r > R]>0))\n",
    " \n",
    "# plt.title(\"M=\"+str(M)+\" N=\"+str(N))\n",
    "# plt.legend(title=\"r_cut/sigma\",loc='upper right')\n",
    "\n",
    "U1 = np.array([mie_potential(x,12,6,1.2,1.2) for x in r])\n",
    "U2 = np.array([mie_potential(x,12,6,1,1) for x in r])\n",
    "plt.plot(r,U1-U2)\n",
    "plt.title(\"M=\"+str(M)+\" N=\"+str(N)+\"r_cut1=sigma1=1.2 and r_cut2=sigma2=1\")\n",
    "\n",
    "plt.ylim(-4, 4)\n",
    "plt.xlim(.4,2)\n",
    "plt.xlabel(\"r, distance\")\n",
    "plt.ylabel(\"Udiff, energy\")\n",
    "plt.show()\n"
   ]
  },
  {
   "cell_type": "markdown",
   "metadata": {},
   "source": [
    "### Disorder"
   ]
  },
  {
   "cell_type": "markdown",
   "metadata": {},
   "source": [
    "## Cohesion"
   ]
  },
  {
   "cell_type": "markdown",
   "metadata": {},
   "source": [
    "### Disorder"
   ]
  },
  {
   "cell_type": "code",
   "execution_count": null,
   "metadata": {},
   "outputs": [],
   "source": [
    "def mie_potential(r,n, sigma):\n",
    "    \n",
    "    eps = 1\n",
    "#     sigma = 1 # Defines when the repulsion should start\n",
    "    rend = 1.2\n",
    "    \n",
    "    r_ = r \n",
    "    gamma_rep = 0\n",
    "    gamma_att = n\n",
    "    C = 4 #gamma_rep/(gamma_rep-gamma_att)*(gamma_rep/gamma_att)**(gamma_att/(gamma_rep-gamma_att))\n",
    "    if(r<=rend):\n",
    "        U = C*eps*((sigma/r_)**gamma_rep-(sigma/r_)**gamma_att)  - C*eps*((sigma/rend)**gamma_rep-(sigma/rend)**gamma_att) \n",
    "    else:\n",
    "        U = 0\n",
    "        \n",
    "    return U\n",
    "\n",
    "r = 2**(1/6)\n",
    "\n",
    "r = np.arange(.01,1.5,.001)\n",
    "#  [.75,.80,.85,.95,1,1.05,1.1,1.15,1.2]\n",
    "for sigma in [.995,1,1.005]:\n",
    "    U1 = [mie_potential(x,6,sigma) for x in r]\n",
    "    print(mie_potential(1,6,sigma))\n",
    "    plt.plot(r,U1, label=str(sigma))\n",
    "    \n",
    "plt.plot(r,np.zeros(r.shape))\n",
    "plt.ylim(-.5, 1)\n",
    "plt.xlim(.5, 1.25)\n",
    "plt.xlabel(\"r, distance\")\n",
    "plt.ylabel(\"U, energy\")\n",
    "plt.legend(title=\"sigma\",loc='upper right')\n",
    "plt.show()"
   ]
  },
  {
   "cell_type": "markdown",
   "metadata": {
    "ExecuteTime": {
     "end_time": "2021-03-07T18:44:28.366385Z",
     "start_time": "2021-03-07T18:44:28.345839Z"
    }
   },
   "source": [
    "# Reading LAMMPS data Each time step"
   ]
  },
  {
   "cell_type": "code",
   "execution_count": null,
   "metadata": {
    "ExecuteTime": {
     "end_time": "2021-04-19T05:14:08.593841Z",
     "start_time": "2021-04-19T05:14:00.331466Z"
    }
   },
   "outputs": [],
   "source": [
    "# _dir = '/home/ankit/Desktop/My_local_work/project_temp/Granular_project/results/LJ/'\n",
    "_dir = \"/home/ankit/Desktop/My_local_work/project_temp/Granular_project/LAMMPS/reference/\"\n",
    "file1 = open(_dir+'dump.neigh', 'r')\n",
    "lines = [line.rstrip() for line in file1]\n",
    "\n",
    "file2 = open(_dir+'visualize.du', 'r')\n",
    "lines2 = [line.rstrip() for line in file2]\n",
    "\n",
    "num_start = 0\n",
    "graph_list = []\n",
    "frame = 0\n",
    "for num1, line in enumerate(lines, 0):\n",
    "    if 'ITEM' in line:\n",
    "        if 'ITEM: TIMESTEP' in line:\n",
    "            curr_timestep1 = int(lines[num1+1])\n",
    "        if 'ITEM: NUMBER OF ENTRIES' in line:\n",
    "            num_entries = int(lines[num1+1])\n",
    "            table = []\n",
    "        if 'ITEM: ENTRIES' in line:\n",
    "            x = lines[num1+1:num1+1+num_entries]\n",
    "            for i in range(len(x)):\n",
    "                table.append(list(map(float, x[i].split(\" \"))))\n",
    "                \n",
    "            pairwise = np.array(table.copy())\n",
    "            for num, line in enumerate(lines2, num_start):\n",
    "                if 'ITEM' in line:\n",
    "                    if 'ITEM: TIMESTEP' in line:\n",
    "                        curr_timestep2 = int(lines2[num+1])\n",
    "                        print(num, curr_timestep2, curr_timestep1)\n",
    "                    if 'ITEM: NUMBER OF ATOMS' in line:\n",
    "                        num_entries2 = int(lines2[num+1])\n",
    "                        table = []\n",
    "                    if 'ITEM: ATOMS' in line:\n",
    "                        x = lines2[num+1:num+1+num_entries2]\n",
    "                        for i in range(len(x)):\n",
    "                            table.append(list(map(float, x[i].split(\" \"))))\n",
    "                                            \n",
    "                        grains = np.array(table.copy())\n",
    "                        grains = grains[grains[:, 0].argsort()]\n",
    "                        num_start = num+1+num_entries2\n",
    "                        break;\n",
    "                                   \n",
    "            Granular_network=net.Graph()\n",
    "            nx,ny = grains.shape\n",
    "            for i in range(nx):\n",
    "                Granular_network.add_node(grains[i,0],pos=(grains[i,2],grains[i,3]))\n",
    "\n",
    "            if(num_entries):\n",
    "                # force chain 50 percentile definition\n",
    "                cForces = pairwise[:,5:8]\n",
    "                cForceMags = np.sqrt(np.sum(cForces**2,axis=1))\n",
    "                cForceMax = np.percentile(cForceMags,50)\n",
    "                mask = cForceMags > cForceMax\n",
    "                nMask = len(np.where(mask)[0]) #number of grains satisfying condition above \n",
    "                if(nMask):\n",
    "                    cForces[mask] = [cForces[mask][i]/cForceMags[mask][i]*cForceMax for i in range(nMask)] #set biggest forces = 95% \n",
    "                    cForcesNormalized = cForces/cForceMax #normalize all forces by 50th% force \n",
    "                    cForcesNormalizedMags = np.linalg.norm(cForcesNormalized,axis=1) #get magnitude of normalized forces\n",
    "\n",
    "                    # Normalize the contact force\n",
    "                    v = cForcesNormalizedMags\n",
    "                    v = (v - v.min()) / (v.max() - v.min())\n",
    "\n",
    "                nx,ny = pairwise.shape\n",
    "                for i in range(nx):\n",
    "                    id1 = int(pairwise[i,1])-1\n",
    "                    id2 = int(pairwise[i,2])-1\n",
    "                    dist = np.sqrt((grains[id1,2]-grains[id2,2])**2 + (grains[id1,3]-grains[id2,3])**2)\n",
    "                    if(mask[i] and dist<=1):\n",
    "                        Granular_network.add_edge(pairwise[i,1], pairwise[i,2],weight=1)\n",
    "#                     if(dist<=7):\n",
    "#                         Granular_network.add_edge(pairwise[i,1], pairwise[i,2],weight=1)                        \n",
    "\n",
    "            graph_list.append(Granular_network.copy())\n",
    "#             nx.draw(Granular_network,pos,width=weights-np.mean(weights))"
   ]
  },
  {
   "cell_type": "code",
   "execution_count": null,
   "metadata": {},
   "outputs": [],
   "source": []
  },
  {
   "cell_type": "code",
   "execution_count": null,
   "metadata": {
    "ExecuteTime": {
     "end_time": "2021-04-19T05:03:27.759034Z",
     "start_time": "2021-04-19T05:03:27.746836Z"
    }
   },
   "outputs": [],
   "source": [
    "graph_list[-2].edges(), graph_list[-1].edges()"
   ]
  },
  {
   "cell_type": "code",
   "execution_count": null,
   "metadata": {
    "ExecuteTime": {
     "end_time": "2021-04-19T05:16:22.573450Z",
     "start_time": "2021-04-19T05:14:35.938361Z"
    }
   },
   "outputs": [],
   "source": [
    "from matplotlib import animation\n",
    "print(len(graph_list))\n",
    "fps = 1\n",
    "# fig = plt.figure()\n",
    "fig, ax = plt.subplots(1)\n",
    "\n",
    "def init():\n",
    "    plt.clf()\n",
    "    return fig,ax\n",
    "\n",
    "def update(it):\n",
    "    G = graph_list[it]\n",
    "    edges = G.edges()\n",
    "    weights = [G[u][v]['weight'] for u,v in edges]\n",
    "    pos=net.get_node_attributes(G,'pos')\n",
    "    plt.cla()\n",
    "#     net.draw(G,pos,width=weights,edge_color=weights,edge_cmap=plt.cm.YlOrRd)\n",
    "    net.draw(G,pos,width=weights,node_size=1)\n",
    "    return fig\n",
    "    \n",
    "ani = animation.FuncAnimation(fig, update,init_func = init, frames=list(range(len(graph_list))))\n",
    "ani.save(_dir+'indent.mp4', fps=fps, extra_args=['-vcodec', 'libx264'])"
   ]
  },
  {
   "cell_type": "markdown",
   "metadata": {},
   "source": [
    "## Reading Energy data per timestep\n",
    "\n",
    "\n",
    "\n"
   ]
  },
  {
   "cell_type": "code",
   "execution_count": null,
   "metadata": {
    "ExecuteTime": {
     "end_time": "2021-05-06T02:20:42.479340Z",
     "start_time": "2021-05-06T02:20:41.275760Z"
    }
   },
   "outputs": [],
   "source": [
    "import lammps_logfile\n",
    "import matplotlib.pyplot as plt\n",
    "\n",
    "# _dir = \"/home/ankit/Desktop/My_local_work/project_temp/Granular_project/LAMMPS/reference/\"\n",
    "# _dir = \"../LAMMPS/reference/Basic_check/\"\n",
    "_dir = \"/media/ankit/A_SSD/Force_chain_analysis/\"\n",
    "\n",
    "log = lammps_logfile.File(_dir+\"log.lammps\")"
   ]
  },
  {
   "cell_type": "code",
   "execution_count": null,
   "metadata": {
    "ExecuteTime": {
     "end_time": "2021-05-06T02:23:59.638489Z",
     "start_time": "2021-05-06T02:23:59.633276Z"
    }
   },
   "outputs": [],
   "source": [
    "K1 = 0\n",
    "K2 = -1\n",
    "step = 1\n",
    "timestep = log.data_dict['v_t'][1]-log.data_dict['v_t'][0]\n",
    "# plt.title('nve')\n",
    "# plt.xlabel('seconds')\n",
    "# plt.ylabel('Joules')\n",
    "# t = log.data_dict['v_t'][K1:K2:step]\n",
    "# plt.plot(t,log.data_dict['KinEng'][K1:K2:step])\n",
    "# plt.plot(t,log.data_dict['PotEng'][K1:K2:step])\n",
    "# plt.plot(t,log.data_dict['TotEng'][K1:K2:step])\n",
    "# plt.legend(['KinEng','PotEng','TotEng'])\n",
    "# plt.show()\n",
    "\n",
    "log.data_dict['Step'][-1]"
   ]
  },
  {
   "cell_type": "code",
   "execution_count": null,
   "metadata": {
    "ExecuteTime": {
     "end_time": "2021-05-02T23:40:59.462062Z",
     "start_time": "2021-05-02T23:40:59.292637Z"
    }
   },
   "outputs": [],
   "source": [
    "K1 = 0\n",
    "K2 = -1\n",
    "step = 1\n",
    "# timestep = log.data_dict['v_t'][1]-log.data_dict['v_t'][0]\n",
    "plt.title('nvt, KE is 0')\n",
    "plt.xlabel('seconds')\n",
    "plt.ylabel('Joules')\n",
    "t = log.data_dict['v_t'][K1:K2:step]\n",
    "# plt.plot(t,log.data_dict['KinEng'][K1:K2:step])\n",
    "plt.plot(t,log.data_dict['PotEng'][K1:K2:step])\n",
    "plt.plot(t,log.data_dict['TotEng'][K1:K2:step])\n",
    "plt.legend(['KinEng','PotEng','TotEng'])\n",
    "plt.show()"
   ]
  },
  {
   "cell_type": "markdown",
   "metadata": {},
   "source": [
    "# Characterizing Force chains"
   ]
  },
  {
   "cell_type": "markdown",
   "metadata": {
    "ExecuteTime": {
     "end_time": "2021-02-24T15:59:01.892755Z",
     "start_time": "2021-02-24T15:59:01.887244Z"
    }
   },
   "source": [
    "## Reading LAMMPS data Final status"
   ]
  },
  {
   "cell_type": "code",
   "execution_count": null,
   "metadata": {
    "ExecuteTime": {
     "end_time": "2021-04-13T13:30:30.654642Z",
     "start_time": "2021-04-13T13:30:30.220081Z"
    }
   },
   "outputs": [],
   "source": [
    "from sklearn.neighbors import KernelDensity\n",
    "\n",
    "Y = cForceMags#c_info['cn'].to_numpy()\n",
    "Y = Y/np.mean(Y)\n",
    "\n",
    "# Do kernel density estimation\n",
    "kd = KernelDensity(kernel='gaussian', bandwidth=1).fit(Y.reshape(-1, 1))\n",
    "\n",
    "# Plot the estimated densty\n",
    "start = np.min(Y)  # Start of the range\n",
    "end = np.max(Y)    # End of the range\n",
    "N = 1000    # Number of evaluation points \n",
    "step = (end - start) / (N - 1)  # Step size\n",
    "x = np.linspace(start, end, N)[:, np.newaxis]  # Generate values in the range\n",
    "kd_vals = np.exp(kd.score_samples(x))\n",
    "plt.plot(np.log(x), np.log(kd_vals))\n",
    "\n",
    "# Show the plots\n",
    "plt.show()\n",
    "print(start)"
   ]
  },
  {
   "cell_type": "code",
   "execution_count": null,
   "metadata": {
    "ExecuteTime": {
     "end_time": "2021-05-06T02:09:37.842109Z",
     "start_time": "2021-05-06T02:09:25.277357Z"
    }
   },
   "outputs": [],
   "source": [
    "# _dir = \"/home/ankit/Desktop/My_local_work/project_temp/Granular_project/LAMMPS/reference/\"\n",
    "_dir = \"/media/ankit/A_SSD/Force_chain_analysis/\"\n",
    "file1 = open(_dir+'dump.neigh', 'r')\n",
    "lines = [line.rstrip() for line in file1]\n",
    "\n",
    "for num, line in enumerate(lines, 0):\n",
    "    if 'ITEM' in line:\n",
    "        if 'ITEM: TIMESTEP' in line:\n",
    "            curr_timestep = int(lines[num+1])\n",
    "        if 'ITEM: NUMBER OF ENTRIES' in line:\n",
    "            num_entries = int(lines[num+1])\n",
    "            table = []\n",
    "        if 'ITEM: ENTRIES' in line:\n",
    "            x = lines[num+1:num+1+num_entries]\n",
    "            for i in range(len(x)):\n",
    "                table.append(list(map(float, x[i].split(\" \"))))\n",
    "            break;\n",
    "           \n",
    "print(curr_timestep)\n",
    "pairwise0 = np.array(table.copy())\n",
    "            \n",
    "file2 = open(_dir+'visualize.du', 'r')\n",
    "lines = [line.rstrip() for line in file2]\n",
    "\n",
    "for num, line in enumerate(lines, 0):\n",
    "    if 'ITEM' in line:\n",
    "        if 'ITEM: TIMESTEP' in line:\n",
    "            curr_timestep = int(lines[num+1])\n",
    "        if 'ITEM: NUMBER OF ATOMS' in line:\n",
    "            num_entries = int(lines[num+1])\n",
    "            table = []\n",
    "        if 'ITEM: ATOMS' in line:\n",
    "            x = lines[num+1:num+1+num_entries]\n",
    "            for i in range(len(x)):\n",
    "                table.append(list(map(float, x[i].split(\" \"))))\n",
    "                \n",
    "            break;\n",
    "                \n",
    "grains0 = np.array(table.copy())\n",
    "grains0 = grains0[grains0[:, 0].argsort()]\n",
    "print(curr_timestep)"
   ]
  },
  {
   "cell_type": "code",
   "execution_count": null,
   "metadata": {
    "ExecuteTime": {
     "end_time": "2021-05-06T02:28:46.027437Z",
     "start_time": "2021-05-06T02:28:45.933861Z"
    }
   },
   "outputs": [],
   "source": [
    "# _dir = \"/home/ankit/Desktop/My_local_work/project_temp/Granular_project/LAMMPS/reference/\"\n",
    "_dir = \"/media/ankit/A_SSD/Force_chain_analysis/\"\n",
    "# _dir = \"E:\\Force_chain_analysis/\"\n",
    "\n",
    "log = lammps_logfile.File(_dir+\"log.lammps\")\n",
    "STEP = int(log.data_dict['Step'][-1])\n",
    "print(STEP)\n",
    "file1 = open(_dir+'dump.neigh', 'r')\n",
    "lines = [line.rstrip() for line in file1]\n",
    "\n",
    "for num, line in enumerate(lines, 0):\n",
    "    if 'ITEM' in line:\n",
    "        if 'ITEM: TIMESTEP' in line:\n",
    "            curr_timestep = int(lines[num+1])\n",
    "        if 'ITEM: NUMBER OF ENTRIES' in line:\n",
    "            num_entries = int(lines[num+1])\n",
    "            table = []\n",
    "        if 'ITEM: ENTRIES' in line:\n",
    "            if(curr_timestep!=STEP):\n",
    "                continue\n",
    "            x = lines[num+1:num+1+num_entries]\n",
    "            for i in range(len(x)):\n",
    "                table.append(list(map(float, x[i].split(\" \"))))\n",
    "           \n",
    "print(curr_timestep)\n",
    "pairwise = np.array(table.copy())\n",
    "            \n",
    "file2 = open(_dir+'visualize.du', 'r')\n",
    "lines = [line.rstrip() for line in file2]\n",
    "\n",
    "for num, line in enumerate(lines, 0):\n",
    "    if 'ITEM' in line:\n",
    "        if 'ITEM: TIMESTEP' in line:\n",
    "            curr_timestep = int(lines[num+1])\n",
    "        if 'ITEM: NUMBER OF ATOMS' in line:\n",
    "            num_entries = int(lines[num+1])\n",
    "            table = []\n",
    "        if 'ITEM: ATOMS' in line:\n",
    "            if(curr_timestep!=STEP):\n",
    "                continue\n",
    "            x = lines[num+1:num+1+num_entries]\n",
    "            for i in range(len(x)):\n",
    "                table.append(list(map(float, x[i].split(\" \"))))\n",
    "                \n",
    "grains = np.array(table.copy())\n",
    "grains = grains[grains[:, 0].argsort()]\n",
    "print(curr_timestep)"
   ]
  },
  {
   "cell_type": "code",
   "execution_count": null,
   "metadata": {
    "ExecuteTime": {
     "end_time": "2021-05-04T12:37:25.493075Z",
     "start_time": "2021-05-04T12:37:25.028310Z"
    }
   },
   "outputs": [],
   "source": [
    "# import pandas as pd\n",
    "# import numpy as np\n",
    "# from scipy.interpolate import griddata\n",
    "# import matplotlib.pyplot as plt\n",
    "# %matplotlib inline\n",
    "\n",
    "# Grains = grains\n",
    "# x = Grains[:,2]\n",
    "# y = Grains[:,3]\n",
    "# Grains[:,-1] = grains[:,-1]-grains0[:,-1]\n",
    "# h = np.log(Grains[:,-1]-min(Grains[:,-1])+.00001)\n",
    "\n",
    "# def plot_contour(x,y,z,resolution = 50,contour_method='linear'):\n",
    "#     resolution = str(resolution)+'j'\n",
    "#     X,Y = np.mgrid[min(x):max(x):complex(resolution),   min(y):max(y):complex(resolution)]\n",
    "#     points = [[a,b] for a,b in zip(x,y)]\n",
    "#     Z = griddata(points, z, (X, Y), method=contour_method)\n",
    "#     return X,Y,Z\n",
    "\n",
    "# X,Y,Z = plot_contour(x,y,h,resolution = 100,contour_method='linear')\n",
    "\n",
    "# with plt.style.context(\"seaborn-white\"):\n",
    "#     fig, ax = plt.subplots(figsize=(13,8))\n",
    "#     ax.scatter(x,y, linewidth=0, s=50)\n",
    "#     ax.contourf(X,Y,Z)\n",
    "    \n",
    "# # plt.savefig(\"check.png\")\n",
    "# plt.show()"
   ]
  },
  {
   "cell_type": "code",
   "execution_count": null,
   "metadata": {
    "ExecuteTime": {
     "end_time": "2021-05-04T01:37:46.314677Z",
     "start_time": "2021-05-04T01:37:45.939221Z"
    }
   },
   "outputs": [],
   "source": [
    "# getting contact vector\n",
    "\n",
    "def mie_potential(r):\n",
    "    \n",
    "    eps = 1\n",
    "    sigma = 1 # Defines when the repulsion should start\n",
    "    rend = 1.2subplots\n",
    "    \n",
    "    r_ = r \n",
    "    gamma_rep = 12\n",
    "    gamma_att = 6\n",
    "    C = 2 #gamma_rep/(gamma_rep-gamma_att)*(gamma_rep/gamma_att)**(gamma_att/(gamma_rep-gamma_att))\n",
    "    if(r<=rend):\n",
    "        U = C*eps*((sigma/r_)**gamma_rep-(sigma/r_)**gamma_att)  - C*eps*((sigma/rend)**gamma_rep-(sigma/rend)**gamma_att) \n",
    "    else:\n",
    "        U = 0\n",
    "        \n",
    "    return U\n",
    "\n",
    "dis_particles = []\n",
    "for n in range(len(pairwise)):\n",
    "    xi, yi = grains[int(pairwise[n,1])-1,2], grains[int(pairwise[n,1])-1,3] \n",
    "    xj, yj = grains[int(pairwise[n,2])-1,2], grains[int(pairwise[n,2])-1,3]\n",
    "    dis_particles.append(np.sqrt((xi - xj)**2 + (yi-yj)**2))\n",
    "    \n",
    "plt.hist(dis_particles)\n",
    "\n",
    "for r in np.unique(dis_particles):\n",
    "    print(mie_potential(r), r-2**(1/6))"
   ]
  },
  {
   "cell_type": "markdown",
   "metadata": {},
   "source": [
    "### Visualisation"
   ]
  },
  {
   "cell_type": "code",
   "execution_count": null,
   "metadata": {
    "ExecuteTime": {
     "end_time": "2021-05-05T20:39:36.084403Z",
     "start_time": "2021-05-05T20:39:36.078951Z"
    }
   },
   "outputs": [],
   "source": [
    "def scale01(M):\n",
    "\n",
    "    New_M = np.zeros((M.shape))\n",
    "    MIN = np.min(M)\n",
    "    MAX = np.max(M)\n",
    "    for i in range(M.shape[0]):\n",
    "            M_ = M[i]\n",
    "            if (MAX == MIN):\n",
    "                New_M[i] = 0.0 * M_\n",
    "            else:\n",
    "                New_M[i] = (M_ - MIN) / (MAX - MIN)\n",
    "\n",
    "    return New_M"
   ]
  },
  {
   "cell_type": "code",
   "execution_count": null,
   "metadata": {
    "ExecuteTime": {
     "end_time": "2021-05-04T22:27:18.956343Z",
     "start_time": "2021-05-04T22:27:18.941312Z"
    }
   },
   "outputs": [],
   "source": [
    "Grain = grains\n",
    "min(Grain[:,-1]), max(Grain[:,-1])"
   ]
  },
  {
   "cell_type": "code",
   "execution_count": null,
   "metadata": {
    "ExecuteTime": {
     "end_time": "2021-05-05T20:39:39.901222Z",
     "start_time": "2021-05-05T20:39:37.576774Z"
    }
   },
   "outputs": [],
   "source": [
    "import matplotlib\n",
    "from mpl_toolkits.axes_grid1 import make_axes_locatable\n",
    "\n",
    "Grain = grains\n",
    "Grain[:,-1] = grains[:,-1]\n",
    "\n",
    "par_type = Grain[:,1]\n",
    "x = Grain[:,2]\n",
    "y = Grain[:,3]\n",
    "h = Grain[:,-1] #np.log(Grain[:,-1]-min(Grain[:,-1])+.00001)\n",
    "s = scale01(h)\n",
    "colors = [matplotlib.cm.jet(color) for color in s]  \n",
    "\n",
    "f, ax1 = plt.subplots(1,1,figsize=(15,15))\n",
    "for xi, yi, color, t in zip(x, y, colors, par_type):\n",
    "    r = .95 if t == 1 else 1.05\n",
    "    circle = plt.Circle((xi,yi), r/2, color=color)  \n",
    "    ax1.add_patch(circle)\n",
    "\n",
    "ax1.set_aspect('equal')\n",
    "ax1.set_xlim(min(x)-.5, max(x)+.5)\n",
    "ax1.set_ylim(min(y)-.5, max(y)+.5)\n",
    "plt.axis('off')\n",
    "# ax1.scatter(x, y,c=h, s=20);\n",
    "sc = ax1.scatter(x, \n",
    "                 y, \n",
    "                 s=0, \n",
    "                 c=Grain[:,-1], \n",
    "                 cmap='jet',\n",
    "                 vmin = min(Grain[:,-1]),\n",
    "                 vmax = max(Grain[:,-1]),\n",
    "                 facecolors='none')\n",
    "\n",
    "divider = make_axes_locatable(ax1)\n",
    "cax = divider.append_axes(\"right\", size=\"5%\", pad=0.05)\n",
    "cbar = plt.colorbar(sc,cax=cax)\n",
    "cbar.set_label('C', rotation=270, labelpad=10)\n",
    "cbar.ax.tick_params(labelsize=25) \n",
    "plt.show()\n",
    "# plt.savefig(\"check2.png\",dpi = 100)\n",
    "\n",
    "# ax1.set_xlim(-1, 1)\n",
    "# ax1.set_ylim(-1, 1)\n",
    "# circle = plt.Circle((0,0), .5, color='b')  \n",
    "# ax1.add_patch(circle)"
   ]
  },
  {
   "cell_type": "markdown",
   "metadata": {},
   "source": [
    "### Force chain Plot\n"
   ]
  },
  {
   "cell_type": "code",
   "execution_count": null,
   "metadata": {
    "ExecuteTime": {
     "end_time": "2021-05-05T01:28:30.220195Z",
     "start_time": "2021-05-05T01:28:30.198122Z"
    }
   },
   "outputs": [],
   "source": [
    "def stress_norm(pairwise, grains):\n",
    "    pass\n",
    "    \n",
    "def force_diff(pairwise, pariwise0):\n",
    "    # force chain 50 percentile definition\n",
    "    diff = pairwise[:,4]-pairwise0[:,4]\n",
    "    mask = diff > 0\n",
    "    return diff, mask"
   ]
  },
  {
   "cell_type": "code",
   "execution_count": null,
   "metadata": {
    "ExecuteTime": {
     "end_time": "2021-05-06T01:33:46.455095Z",
     "start_time": "2021-05-06T01:33:46.443592Z"
    }
   },
   "outputs": [],
   "source": [
    "def force_percentile(pairwise, percentile=50):\n",
    "    # force chain 50 percentile definition\n",
    "    cForces = pairwise[:, 5:8]\n",
    "    cForceMags = np.sqrt(np.sum(cForces**2, axis=1))\n",
    "    cForceMax_p = np.percentile(cForceMags, percentile)\n",
    "    cForceMax_m = np.max(cForceMags)\n",
    "\n",
    "    plt.hist(cForceMags)\n",
    "    plt.axvline(cForceMax_p, color='k', linestyle='dashed', linewidth=1)\n",
    "    plt.show()\n",
    "    \n",
    "    if(abs(cForceMax_p-cForceMax_m)/cForceMax_p < .01):\n",
    "        return np.zeros(cForceMags.shape[0]), np.zeros(cForceMags.shape[0], dtype=bool)\n",
    "    \n",
    "    mask = cForceMags > cForceMax_p\n",
    "#     # number of grains satisfying condition above\n",
    "    nMask = len(np.where(mask)[0])\n",
    "    print(nMask)\n",
    "    if(nMask):\n",
    "        cForces[mask] = [cForces[mask][i]/cForceMags[mask][i] * cForceMax_p for i in range(nMask)]  # set biggest forces = 95%\n",
    "        cForcesNormalized = cForces/cForceMax_p  # normalize all forces by 50th% force\n",
    "        # get magnitude of normalized forces\n",
    "        cForcesNormalizedMags = np.linalg.norm(cForcesNormalized, axis=1)\n",
    "        return cForcesNormalizedMags, mask\n",
    "    else:\n",
    "        return np.zeros(cForceMags.shape[0]), mask\n",
    "\n",
    "def pe_percentile(pairwise, file,percentile=50):\n",
    "    # force chain 50 percentile definition\n",
    "    cForceMags = pairwise[:, 4]\n",
    "    cForceMax_p = np.percentile(cForceMags, percentile)\n",
    "\n",
    "    # cForceMax = np.max(cForceMags)\n",
    "    # cForcemin = np.min(cForceMags)\n",
    "    # cForcemean = np.mean(cForceMags)\n",
    "    # print(abs(cForceMax_p-cForceMax)/cForceMax_p,\n",
    "    # abs(cForceMax_p-cForcemin)/cForceMax_p,\n",
    "    # abs(cForceMax_p-cForcemean)/cForceMax_p,\n",
    "    # abs(cForceMax-cForcemin)/cForceMax\n",
    "    # )\n",
    "    plothist(cForceMags,\"Energy distribution\",percentile,file) \n",
    "    # if(abs(cForceMax_p-cForceMax)/cForceMax_p < 1e-10):\n",
    "    #     return np.zeros(cForceMags.shape[0]), np.zeros(cForceMags.shape[0], dtype=bool)\n",
    "    \n",
    "    mask = cForceMags > cForceMax_p\n",
    "    # number of grains satisfying condition above\n",
    "    nMask = len(np.where(mask)[0])\n",
    "    print(\"Number of force chains \",nMask)\n",
    "    if(nMask):\n",
    "        cForcesNormalized = cForceMags  # normalize all forces by 50th% force\n",
    "        return cForcesNormalized, mask\n",
    "    else:\n",
    "        return np.zeros(cForceMags.shape[0]), mask    \n",
    "    \n",
    "# v, mask = force_percentile(pairwise, 50)\n",
    "# plt.hist(v)\n",
    "# plt.show()\n",
    "# DIST = []\n",
    "# nx,ny = pairwise.shape\n",
    "# for i in range(nx):\n",
    "#     id1 = np.where(Grain[:,0] == int(pairwise[i,1]))[0][0]\n",
    "#     id2 = np.where(Grain[:,0] == int(pairwise[i,2]))[0][0]\n",
    "#     dist = np.sqrt((Grain[id1,2]-Grain[id2,2])**2 + (Grain[id1,3]-Grain[id2,3])**2)\n",
    "#     DIST.append(dist)\n",
    " \n",
    "# plt.hist(DIST)\n",
    "# plt.show()\n",
    "\n",
    "# plt.scatter(DIST,v)\n"
   ]
  },
  {
   "cell_type": "code",
   "execution_count": null,
   "metadata": {
    "ExecuteTime": {
     "end_time": "2021-05-06T01:49:51.294688Z",
     "start_time": "2021-05-06T01:49:51.290308Z"
    }
   },
   "outputs": [],
   "source": []
  },
  {
   "cell_type": "code",
   "execution_count": null,
   "metadata": {
    "ExecuteTime": {
     "end_time": "2021-05-06T01:53:12.499173Z",
     "start_time": "2021-05-06T01:53:11.132383Z"
    }
   },
   "outputs": [],
   "source": [
    "import matplotlib.colors as colors\n",
    "def truncate_colormap(cmap, minval=0.0, maxval=1.0, n=100):\n",
    "    new_cmap = colors.LinearSegmentedColormap.from_list(\n",
    "        'trunc({n},{a:.2f},{b:.2f})'.format(n=cmap.name, a=minval, b=maxval),\n",
    "        cmap(np.linspace(minval, maxval, n)))\n",
    "    return new_cmap\n",
    "\n",
    "new_cmap = plt.get_cmap('cool')\n",
    "new_cmap = truncate_colormap(new_cmap, 0.2, 0.8)\n",
    "\n",
    "Grain = grains\n",
    "Pairwise = pairwise\n",
    "# v, mask = force_diff(pairwise, pairwise0)\n",
    "v, mask = pe_percentile(Pairwise,\"A\", 60)\n",
    "# if(v.max()!=v.min()):\n",
    "# #     v = 4*(v - v.min()) / (v.max() - v.min())\n",
    "# #       v = v/v.max()\n",
    "    \n",
    "# else:\n",
    "#     v = np.ones(v.shape)\n",
    "\n",
    "Granular_network=net.Graph()\n",
    "nx,ny = Grain.shape\n",
    "for node,x,y in zip(Grain[:,0],Grain[:,2],Grain[:,3]):\n",
    "    Granular_network.add_node(node,pos=(x,y))\n",
    "    \n",
    "DIST = []\n",
    "nx,ny = Pairwise.shape\n",
    "for i in range(nx):\n",
    "    id1 = int(Pairwise[i,1])-1\n",
    "    id2 = int(Pairwise[i,2])-1\n",
    "#     dist = np.sqrt((Grain[id1,2]-Grain[id2,2])**2 + (Grain[id1,3]-Grain[id2,3])**2)\n",
    "    if(mask[i]):\n",
    "        Granular_network.add_edge(id1+1, id2+1,weight=v[i])\n",
    "\n",
    "edges = Granular_network.edges()\n",
    "weights = [Granular_network[u][v]['weight'] for u,v in edges]\n",
    "pos=net.get_node_attributes(Granular_network,'pos')\n",
    "\n",
    "net.draw(Granular_network,pos,width=2,edge_color=weights,node_size=2,node_color='black',edge_cmap=new_cmap)\n",
    "net.draw_networkx_nodes(Granular_network,pos,Grain[Grain[:,1] == 2,0],node_size=2,node_color='white')\n",
    "vmin = min(weights)\n",
    "vmax = max(weights)\n",
    "sm = plt.cm.ScalarMappable(cmap=cmap, norm=plt.Normalize(vmin = vmin, vmax=vmax))\n",
    "sm._A = []\n",
    "plt.colorbar(sm,shrink=0.9)\n",
    "plt.show()"
   ]
  },
  {
   "cell_type": "markdown",
   "metadata": {
    "ExecuteTime": {
     "end_time": "2021-04-13T15:18:42.304709Z",
     "start_time": "2021-04-13T15:18:42.302924Z"
    }
   },
   "source": [
    "## Analysing Graph properties"
   ]
  },
  {
   "cell_type": "code",
   "execution_count": null,
   "metadata": {
    "ExecuteTime": {
     "end_time": "2021-04-20T00:41:01.299285Z",
     "start_time": "2021-04-20T00:41:01.159537Z"
    }
   },
   "outputs": [],
   "source": [
    "Degree = Granular_network.degree\n",
    "mean_Degree = np.mean(Degree)\n",
    "\n",
    "lengths_cc = [len(c)-1 for c in sorted(net.connected_components(Granular_network), key=len, reverse=True)]\n",
    "max_lengths_cc = max(lengths_cc)\n",
    "degree_centrality = net.degree_centrality(Granular_network)\n",
    "betweenness_centrality = net.betweenness_centrality(Granular_network)\n",
    "\n",
    "from networkx.algorithms import community\n",
    "communities_generator = community.girvan_newman(Granular_network)\n",
    "top_level_communities1 = next(communities_generator)\n",
    "top_level_communities2 = next(communities_generator)\n",
    "\n",
    "print(mean_Degree, max_lengths_cc)"
   ]
  },
  {
   "cell_type": "code",
   "execution_count": null,
   "metadata": {
    "ExecuteTime": {
     "end_time": "2021-04-15T17:36:26.655921Z",
     "start_time": "2021-04-15T17:36:26.650173Z"
    }
   },
   "outputs": [],
   "source": [
    "1/2**(1/6)"
   ]
  }
 ],
 "metadata": {
  "kernelspec": {
   "display_name": "Python 3",
   "language": "python",
   "name": "python3"
  },
  "language_info": {
   "codemirror_mode": {
    "name": "ipython",
    "version": 3
   },
   "file_extension": ".py",
   "mimetype": "text/x-python",
   "name": "python",
   "nbconvert_exporter": "python",
   "pygments_lexer": "ipython3",
   "version": "3.7.7"
  },
  "latex_envs": {
   "LaTeX_envs_menu_present": true,
   "autoclose": false,
   "autocomplete": true,
   "bibliofile": "biblio.bib",
   "cite_by": "apalike",
   "current_citInitial": 1,
   "eqLabelWithNumbers": true,
   "eqNumInitial": 1,
   "hotkeys": {
    "equation": "Ctrl-E",
    "itemize": "Ctrl-I"
   },
   "labels_anchors": false,
   "latex_user_defs": false,
   "report_style_numbering": false,
   "user_envs_cfg": false
  },
  "toc": {
   "base_numbering": 1,
   "nav_menu": {},
   "number_sections": true,
   "sideBar": true,
   "skip_h1_title": false,
   "title_cell": "Table of Contents",
   "title_sidebar": "Contents",
   "toc_cell": false,
   "toc_position": {
    "height": "calc(100% - 180px)",
    "left": "10px",
    "top": "150px",
    "width": "315.333px"
   },
   "toc_section_display": true,
   "toc_window_display": false
  },
  "varInspector": {
   "cols": {
    "lenName": 16,
    "lenType": 16,
    "lenVar": 40
   },
   "kernels_config": {
    "python": {
     "delete_cmd_postfix": "",
     "delete_cmd_prefix": "del ",
     "library": "var_list.py",
     "varRefreshCmd": "print(var_dic_list())"
    },
    "r": {
     "delete_cmd_postfix": ") ",
     "delete_cmd_prefix": "rm(",
     "library": "var_list.r",
     "varRefreshCmd": "cat(var_dic_list()) "
    }
   },
   "types_to_exclude": [
    "module",
    "function",
    "builtin_function_or_method",
    "instance",
    "_Feature"
   ],
   "window_display": false
  }
 },
 "nbformat": 4,
 "nbformat_minor": 4
}
