{
 "cells": [
  {
   "cell_type": "code",
   "execution_count": null,
   "id": "4a054265",
   "metadata": {},
   "outputs": [],
   "source": [
    "# DIST\n",
    "\n",
    "alpha = 1\n",
    "M = 12\n",
    "N = 6\n",
    "disorder = 0\n",
    "\n",
    "def Force_LJ(r):\n",
    "    eps = 1\n",
    "    sigma = 1+disorder\n",
    "    rmin = (M/N)**(1/(M-N))*sigma\n",
    "    r = r*rmin\n",
    "    rend = alpha*sigma*rmin\n",
    "    \n",
    "    if(r<=rend):\n",
    "        F = 4*eps*(M*(sigma**M)/(r**(M+1))-N*(sigma**N)/(r**(N+1))) \n",
    "    else:\n",
    "        F = 0\n",
    "        \n",
    "    return F\n",
    "\n",
    "# U2 = np.array(list(map(Force_LJ, DIST)))\n",
    "# plt.hist(U2)\n",
    "# # plt.hist(F)\n",
    "F"
   ]
  },
  {
   "cell_type": "code",
   "execution_count": 1,
   "id": "99edf326",
   "metadata": {
    "ExecuteTime": {
     "end_time": "2021-11-17T18:57:38.777218Z",
     "start_time": "2021-11-17T18:57:38.357209Z"
    }
   },
   "outputs": [
    {
     "data": {
      "image/png": "[encoded data removed]",
      "text/plain": [
       "<Figure size 432x288 with 1 Axes>"
      ]
     },
     "metadata": {},
     "output_type": "display_data"
    }
   ],
   "source": [
    "from networkx import *\n",
    "import matplotlib.pyplot as plt\n",
    "G = Graph()\n",
    "G.add_node(1)\n",
    "# Need to specify a layout when calling the draw functions below\n",
    "# spring_layouat is the default layout used within networkx (e.g. by `draw`)\n",
    "pos = spring_layout(G)\n",
    "nodes = draw_networkx_nodes(G, pos,node_color='none')\n",
    "# Set edge color to red\n",
    "nodes.set_edgecolor('r')\n",
    "draw_networkx_edges(G, pos)\n",
    "# Uncomment this if you want your labels\n",
    "## draw_networkx_labels(G, pos)\n",
    "plt.show()"
   ]
  },
  {
   "cell_type": "code",
   "execution_count": null,
   "id": "2945eee2",
   "metadata": {},
   "outputs": [],
   "source": [
    "def draw_plot(data, edge_color, position, ax, fill_color='None'):\n",
    "    bp = ax.boxplot(data, positions=position)\n",
    "\n",
    "    i = 0a\n",
    "    for element in ['boxes', 'whiskers', 'fliers', 'means', 'medians', 'caps']:\n",
    "        plt.setp(bp[element], color=edge_color[i])\n",
    "        \n",
    "    for median in bp['medians']:\n",
    "        median.set(color ='red',\n",
    "               linewidth = 4)\n",
    "\n",
    "def combineboxplot(plots, ylabel, scale=1):\n",
    "\n",
    "#     DISORDER = [0,.0001,.0005,.001,.005,.01,.05,.1]\n",
    "#  [1, 5, 9, 13, 15, 17, 19, 21]\n",
    "    DISORDER = [0]\n",
    "    \n",
    "    data_to_plot_1 = plots.copy()\n",
    "    for i in range(len(data_to_plot_1)):\n",
    "        array = plots[i]\n",
    "        data_to_plot_1[i] = np.copy(array)\n",
    "\n",
    "    fig, ax = plt.subplots(1, 1, figsize=set_size(500.484))\n",
    "    draw_plot(data_to_plot_1, 'blue', [1], ax)\n",
    "    ax.set_ylabel(ylabel)\n",
    "    ax.set_xlabel(\"Disorder\")\n",
    "    ax.set_xticklabels([str(thing) for thing in DISORDER])\n",
    "#     mx = min([min(t) for t in data_to_plot_1]+[min(t)\n",
    "#                                                for t in data_to_plot_2]+[min(t) for t in data_to_plot_3])\n",
    "#     Mx = max([max(t) for t in data_to_plot_1]+[max(t)\n",
    "#                                                for t in data_to_plot_2]+[max(t) for t in data_to_plot_3])    \n",
    "#     hB, = ax.plot([mx, Mx], 'b-')\n",
    "#     hR, = ax.plot([mx, Mx], 'r-')\n",
    "#     hG, = ax.plot([mx, Mx], 'g-')\n",
    "#     ax.legend((hB, hR, hG), ('Largest', '2nd Largest',\n",
    "#                              '3rd Largest'), bbox_to_anchor=(1, 1))\n",
    "#     ax.set_xticks([2, 6, 10, 14])\n",
    "#     ax.set_ylim([0, scale*Mx])\n",
    "#     hB.set_visible(False)\n",
    "#     hR.set_visible(False)\n",
    "#     hG.set_visible(False)\n",
    "#     plt.savefig(ylabel + '.eps', format='eps',dpi=1000,bbox_inches='tight')\n",
    "    plt.show()\n",
    "    plt.close(fig)\n",
    "                        \n",
    "new_degree = np.array(degrees)[grains[:,1] != 2]\n",
    "combineboxplot([new_degree[new_degree != 0]],\"\")"
   ]
  },
  {
   "cell_type": "code",
   "execution_count": null,
   "id": "9f15f22c",
   "metadata": {},
   "outputs": [],
   "source": [
    "import matplotlib\n",
    "import copy as cp\n",
    "from mpl_toolkits.axes_grid1 import make_axes_locatable\n",
    "\n",
    "Grain = cp.copy(grains)\n",
    "\n",
    "par_type = Grain[:,1]\n",
    "x = Grain[:,2]\n",
    "y = Grain[:,3]\n",
    "h = np.array(degrees)\n",
    "s = scale01(h)\n",
    "colors = [matplotlib.cm.jet(color) for color in s]  \n",
    "\n",
    "f, ax1 = plt.subplots(1,1,figsize=(15,15))\n",
    "for xi, yi, color, t in zip(x, y, colors, par_type):\n",
    "    r = .95 if t == 1 else 1.05\n",
    "    circle = plt.Circle((xi,yi), r/4, color=color)  \n",
    "    ax1.add_patch(circle)\n",
    "\n",
    "ax1.set_aspect('equal')\n",
    "ax1.set_xlim(min(x)-.5, max(x)+.5)\n",
    "ax1.set_ylim(min(y)-.5, max(y)+.5)\n",
    "plt.axis('off')\n",
    "# ax1.scatter(x, y,c=h, s=20);\n",
    "sc = ax1.scatter(x, \n",
    "                 y, \n",
    "                 s=0, \n",
    "                 c=degrees, \n",
    "                 cmap='jet',\n",
    "                 vmin = min(degrees),\n",
    "                 vmax = max(degrees),\n",
    "                 facecolors='none')\n",
    "\n",
    "divider = make_axes_locatable(ax1)\n",
    "cax = divider.append_axes(\"right\", size=\"5%\", pad=0.05)\n",
    "cbar = plt.colorbar(sc,cax=cax)\n",
    "cbar.set_label('C', rotation=270, labelpad=10)\n",
    "cbar.ax.tick_params(labelsize=25) \n",
    "plt.show()\n",
    "# plt.savefig(\"check2.png\",dpi = 100)\n",
    "\n",
    "# ax1.set_xlim(-1, 1)\n",
    "# ax1.set_ylim(-1, 1)\n",
    "# circle = plt.Circle((0,0), .5, color='b')  \n",
    "# ax1.add_patch(circle)"
   ]
  },
  {
   "cell_type": "code",
   "execution_count": null,
   "id": "cfbe5cca",
   "metadata": {},
   "outputs": [],
   "source": [
    "A = []\n",
    "for i in np.arange(1e-2,1e2):\n",
    "    for j in np.arange(1e-2,1e2):\n",
    "        A.append((i-j)/(i+j))\n",
    "        \n",
    "plt.hist(A)"
   ]
  },
  {
   "cell_type": "code",
   "execution_count": null,
   "id": "b212ccc2",
   "metadata": {},
   "outputs": [],
   "source": [
    "X = fn/np.mean(fn)\n",
    "\n",
    "X1 = stats.expon.rvs(size=10000)\n",
    "index = np.argsort(X)\n",
    "x = X[index]\n",
    "index1 = np.argsort(X1)\n",
    "x1 = X[index1]\n",
    "\n",
    "# plt.plot(x,nd.pdf(x))  # This is assuming distribution came from normal\n",
    "\n",
    "# y1 = plt.hist(X1, bins=100, histtype='step',density=True, fill=False, cumulative=False, log=False)\n",
    "\n",
    "\n",
    "\n",
    "# bins1 = y1[1][1:]\n",
    "# ax.plot(bins1,y1[0],'b')\n",
    "\n",
    "# ax.set_yscale('log')\n",
    "# ax.set_xscale('log')\n",
    "plt.show()\n",
    "\n",
    "\n",
    "\n",
    "# Check this distribution with that of LSDEM code (Priority over data analysis)"
   ]
  },
  {
   "cell_type": "code",
   "execution_count": null,
   "id": "3fb1c029",
   "metadata": {},
   "outputs": [],
   "source": [
    "import numpy as np\n",
    "import matplotlib.pyplot as plt\n",
    "from scipy.optimize import curve_fit\n",
    "from scipy.special import factorial\n",
    "from scipy.stats import poisson\n",
    "\n",
    "# get poisson deviated random numbers\n",
    "data = f#np.random.poisson(2, 1000)\n",
    "\n",
    "# the bins should be of integer width, because poisson is an integer distribution\n",
    "bins = 30#np.arange(11) - 0.5\n",
    "entries, bin_edges, patches = plt.hist(data, bins=bins, density=True, label='Data')\n",
    "\n",
    "# calculate bin centres\n",
    "bin_middles = 0.5 * (bin_edges[1:] + bin_edges[:-1])\n",
    "\n",
    "\n",
    "def fit_function(k, lamb):\n",
    "    '''poisson function, parameter lamb is the fit parameter'''\n",
    "    return poisson.pmf(k, lamb)\n",
    "\n",
    "\n",
    "# fit with curve_fit\n",
    "parameters, cov_matrix = curve_fit(fit_function, bin_middles, entries)\n",
    "\n",
    "# plot poisson-deviation with fitted parameter\n",
    "x_plot = numpy.linspace(min(data), max(data),len(data))\n",
    "\n",
    "plt.plot(\n",
    "    x_plot,\n",
    "    fit_function(x_plot, *parameters),\n",
    "    marker='o', linestyle='',\n",
    "    label='Fit result',\n",
    ")\n",
    "plt.legend()\n",
    "plt.show()"
   ]
  },
  {
   "cell_type": "code",
   "execution_count": null,
   "id": "b3d4b8ae",
   "metadata": {},
   "outputs": [],
   "source": [
    "# plt.hist(np.array(list(Degree))[:,1])\n",
    "\n",
    "# fig = plt.figure()\n",
    "# plt.plot(mean_Degree)\n",
    "# plt.xlabel(\"Disorder\")\n",
    "# plt.ylabel(\"Mean Degree\")\n",
    "# plt.ylim(.5*np.min(Degree),2*np.max(Degree))\n",
    "# plt.savefig(_dir+\"Degree.png\", format='png',dpi=1000,bbox_inches='tight')\n",
    "# plt.close(fig)\n",
    "\n",
    "# np.array(list(degree_centrality))\n",
    "# np.array(degree_centrality)\n",
    "# np.array(list(degree_centrality.items()))[:,1]\n",
    "\n",
    "degrees = [val for (node, val) in Granular_network.degree()]\n",
    "\n",
    "np.mean(Degree), np.mean(degrees)"
   ]
  },
  {
   "cell_type": "code",
   "execution_count": 1,
   "id": "addfbb0d",
   "metadata": {
    "ExecuteTime": {
     "end_time": "2021-06-28T16:42:58.228274Z",
     "start_time": "2021-06-28T16:42:57.691231Z"
    }
   },
   "outputs": [
    {
     "ename": "NameError",
     "evalue": "name 'pairnew' is not defined",
     "output_type": "error",
     "traceback": [
      "\u001b[0;31m---------------------------------------------------------------------------\u001b[0m",
      "\u001b[0;31mNameError\u001b[0m                                 Traceback (most recent call last)",
      "\u001b[0;32m<ipython-input-1-ce881425d969>\u001b[0m in \u001b[0;36m<module>\u001b[0;34m\u001b[0m\n\u001b[1;32m      1\u001b[0m \u001b[0;32mfrom\u001b[0m \u001b[0msklearn\u001b[0m\u001b[0;34m.\u001b[0m\u001b[0mneighbors\u001b[0m \u001b[0;32mimport\u001b[0m \u001b[0mKernelDensity\u001b[0m\u001b[0;34m\u001b[0m\u001b[0;34m\u001b[0m\u001b[0m\n\u001b[1;32m      2\u001b[0m \u001b[0;34m\u001b[0m\u001b[0m\n\u001b[0;32m----> 3\u001b[0;31m \u001b[0mx\u001b[0m \u001b[0;34m=\u001b[0m \u001b[0mabs\u001b[0m\u001b[0;34m(\u001b[0m\u001b[0mpairnew\u001b[0m\u001b[0;34m[\u001b[0m\u001b[0;34m:\u001b[0m\u001b[0;34m,\u001b[0m\u001b[0;36m5\u001b[0m\u001b[0;34m]\u001b[0m\u001b[0;34m)\u001b[0m\u001b[0;34m\u001b[0m\u001b[0;34m\u001b[0m\u001b[0m\n\u001b[0m\u001b[1;32m      4\u001b[0m \u001b[0mfy\u001b[0m \u001b[0;34m=\u001b[0m \u001b[0mabs\u001b[0m\u001b[0;34m(\u001b[0m\u001b[0mpairnew\u001b[0m\u001b[0;34m[\u001b[0m\u001b[0;34m:\u001b[0m\u001b[0;34m,\u001b[0m\u001b[0;36m6\u001b[0m\u001b[0;34m]\u001b[0m\u001b[0;34m)\u001b[0m\u001b[0;34m\u001b[0m\u001b[0;34m\u001b[0m\u001b[0m\n\u001b[1;32m      5\u001b[0m \u001b[0;34m\u001b[0m\u001b[0m\n",
      "\u001b[0;31mNameError\u001b[0m: name 'pairnew' is not defined"
     ]
    }
   ],
   "source": [
    "from sklearn.neighbors import KernelDensity\n",
    "\n",
    "x = abs(pairnew[:,5])\n",
    "fy = abs(pairnew[:,6])\n",
    "\n",
    "fn = np.sqrt(fx**2+fy**2)\n",
    "Y = fn #cForceMags#c_info['cn'].to_numpy()\n",
    "Y = Y/np.percentile(Y,60)\n",
    "\n",
    "# Do kernel density estimation\n",
    "# kd = KernelDensity(kernel='gaussian', bandwidth=1).fit(Y.reshape(-1, 1))\n",
    "\n",
    "# Plot the estimated densty\n",
    "start = np.min(Y)  # Start of the range\n",
    "end = np.max(Y)    # End of the range\n",
    "N = 1000    # Number of evaluation points \n",
    "step = (end - start) / (N - 1)  # Step size\n",
    "x = np.linspace(start, end, N)[:, np.newaxis]  # Generate values in the range\n",
    "kd_vals = np.exp(kd.score_samples(x))\n",
    "plt.plot(np.log(x), np.log(kd_vals))\n",
    "\n",
    "# Show the plots\n",
    "plt.show()\n",
    "print(start)"
   ]
  },
  {
   "cell_type": "code",
   "execution_count": 2,
   "id": "7d2f0438",
   "metadata": {
    "ExecuteTime": {
     "end_time": "2021-06-28T16:44:17.542657Z",
     "start_time": "2021-06-28T16:44:17.540592Z"
    }
   },
   "outputs": [],
   "source": [
    "\n",
    "# lengths_cc = [len(c)-1 for c in sorted(net.connected_components(Granular_network), key=len, reverse=True)]\n",
    "# max_lengths_cc = max(lengths_cc)\n",
    "# degree_centrality = net.degree_centrality(Granular_network)\n",
    "# betweenness_centrality = net.betweenness_centrality(Granular_network)\n",
    "\n",
    "# from networkx.algorithms import community\n",
    "# communities_generator = community.girvan_newman(Granular_network)\n",
    "# top_level_communities1 = next(communities_generator)\n",
    "# top_level_communities2 = next(communities_generator)\n",
    "# \n",
    "# print(mean_Degree, max_lengths_cc,degree_centrality,betweenness_centrality)"
   ]
  },
  {
   "cell_type": "code",
   "execution_count": 3,
   "id": "b852cc91",
   "metadata": {
    "ExecuteTime": {
     "end_time": "2021-06-28T16:44:25.892751Z",
     "start_time": "2021-06-28T16:44:25.880561Z"
    }
   },
   "outputs": [
    {
     "ename": "NameError",
     "evalue": "name 'Granular_network' is not defined",
     "output_type": "error",
     "traceback": [
      "\u001b[0;31m---------------------------------------------------------------------------\u001b[0m",
      "\u001b[0;31mNameError\u001b[0m                                 Traceback (most recent call last)",
      "\u001b[0;32m<ipython-input-3-6b00671e98b9>\u001b[0m in \u001b[0;36m<module>\u001b[0;34m\u001b[0m\n\u001b[0;32m----> 1\u001b[0;31m \u001b[0mcoordination_number\u001b[0m \u001b[0;34m=\u001b[0m \u001b[0mGranular_network\u001b[0m\u001b[0;34m.\u001b[0m\u001b[0mnumber_of_edges\u001b[0m\u001b[0;34m(\u001b[0m\u001b[0;34m)\u001b[0m\u001b[0;34m/\u001b[0m\u001b[0mnp\u001b[0m\u001b[0;34m.\u001b[0m\u001b[0msum\u001b[0m\u001b[0;34m(\u001b[0m\u001b[0mGrain\u001b[0m\u001b[0;34m[\u001b[0m\u001b[0;34m:\u001b[0m\u001b[0;34m,\u001b[0m\u001b[0;36m1\u001b[0m\u001b[0;34m]\u001b[0m \u001b[0;34m!=\u001b[0m \u001b[0;36m2\u001b[0m\u001b[0;34m)\u001b[0m\u001b[0;34m\u001b[0m\u001b[0;34m\u001b[0m\u001b[0m\n\u001b[0m\u001b[1;32m      2\u001b[0m \u001b[0mcoordination_number\u001b[0m\u001b[0;34m\u001b[0m\u001b[0;34m\u001b[0m\u001b[0m\n\u001b[1;32m      3\u001b[0m \u001b[0;34m\u001b[0m\u001b[0m\n\u001b[1;32m      4\u001b[0m \u001b[0mfx\u001b[0m \u001b[0;34m=\u001b[0m \u001b[0mabs\u001b[0m\u001b[0;34m(\u001b[0m\u001b[0mpairwise\u001b[0m\u001b[0;34m[\u001b[0m\u001b[0mmask\u001b[0m\u001b[0;34m,\u001b[0m\u001b[0;36m5\u001b[0m\u001b[0;34m]\u001b[0m\u001b[0;34m)\u001b[0m\u001b[0;34m\u001b[0m\u001b[0;34m\u001b[0m\u001b[0m\n\u001b[1;32m      5\u001b[0m \u001b[0mfy\u001b[0m \u001b[0;34m=\u001b[0m \u001b[0mabs\u001b[0m\u001b[0;34m(\u001b[0m\u001b[0mpairwise\u001b[0m\u001b[0;34m[\u001b[0m\u001b[0mmask\u001b[0m\u001b[0;34m,\u001b[0m\u001b[0;36m6\u001b[0m\u001b[0;34m]\u001b[0m\u001b[0;34m)\u001b[0m\u001b[0;34m\u001b[0m\u001b[0;34m\u001b[0m\u001b[0m\n",
      "\u001b[0;31mNameError\u001b[0m: name 'Granular_network' is not defined"
     ]
    }
   ],
   "source": [
    "coordination_number = Granular_network.number_of_edges()/np.sum(Grain[:,1] != 2)\n",
    "coordination_number\n",
    "\n",
    "fx = abs(pairwise[mask,5])\n",
    "fy = abs(pairwise[mask,6])\n",
    "muc = (np.sum(fy)-np.sum(fx)) / (np.sum(fy)+np.sum(fx))\n",
    "force_chain_comonent_ratio = muc"
   ]
  },
  {
   "cell_type": "code",
   "execution_count": 1,
   "id": "e3a4a564",
   "metadata": {
    "ExecuteTime": {
     "end_time": "2021-07-18T20:16:15.040299Z",
     "start_time": "2021-07-18T20:16:14.976792Z"
    }
   },
   "outputs": [
    {
     "ename": "NameError",
     "evalue": "name 'grains0' is not defined",
     "output_type": "error",
     "traceback": [
      "\u001b[0;31m---------------------------------------------------------------------------\u001b[0m",
      "\u001b[0;31mNameError\u001b[0m                                 Traceback (most recent call last)",
      "\u001b[0;32m<ipython-input-1-6a3f849b9f60>\u001b[0m in \u001b[0;36m<module>\u001b[0;34m\u001b[0m\n\u001b[0;32m----> 1\u001b[0;31m \u001b[0mGrain\u001b[0m \u001b[0;34m=\u001b[0m \u001b[0mgrains0\u001b[0m\u001b[0;34m\u001b[0m\u001b[0;34m\u001b[0m\u001b[0m\n\u001b[0m\u001b[1;32m      2\u001b[0m \u001b[0mGranular_network\u001b[0m\u001b[0;34m=\u001b[0m\u001b[0mnet\u001b[0m\u001b[0;34m.\u001b[0m\u001b[0mGraph\u001b[0m\u001b[0;34m(\u001b[0m\u001b[0;34m)\u001b[0m\u001b[0;34m\u001b[0m\u001b[0;34m\u001b[0m\u001b[0m\n\u001b[1;32m      3\u001b[0m \u001b[0mnx\u001b[0m\u001b[0;34m,\u001b[0m\u001b[0mny\u001b[0m \u001b[0;34m=\u001b[0m \u001b[0mGrain\u001b[0m\u001b[0;34m.\u001b[0m\u001b[0mshape\u001b[0m\u001b[0;34m\u001b[0m\u001b[0;34m\u001b[0m\u001b[0m\n\u001b[1;32m      4\u001b[0m \u001b[0;32mfor\u001b[0m \u001b[0mnode\u001b[0m\u001b[0;34m,\u001b[0m\u001b[0mx\u001b[0m\u001b[0;34m,\u001b[0m\u001b[0my\u001b[0m \u001b[0;32min\u001b[0m \u001b[0mzip\u001b[0m\u001b[0;34m(\u001b[0m\u001b[0mGrain\u001b[0m\u001b[0;34m[\u001b[0m\u001b[0;34m:\u001b[0m\u001b[0;34m,\u001b[0m\u001b[0;36m0\u001b[0m\u001b[0;34m]\u001b[0m\u001b[0;34m,\u001b[0m\u001b[0mGrain\u001b[0m\u001b[0;34m[\u001b[0m\u001b[0;34m:\u001b[0m\u001b[0;34m,\u001b[0m\u001b[0;36m2\u001b[0m\u001b[0;34m]\u001b[0m\u001b[0;34m,\u001b[0m\u001b[0mGrain\u001b[0m\u001b[0;34m[\u001b[0m\u001b[0;34m:\u001b[0m\u001b[0;34m,\u001b[0m\u001b[0;36m3\u001b[0m\u001b[0;34m]\u001b[0m\u001b[0;34m)\u001b[0m\u001b[0;34m:\u001b[0m\u001b[0;34m\u001b[0m\u001b[0;34m\u001b[0m\u001b[0m\n\u001b[1;32m      5\u001b[0m     \u001b[0mGranular_network\u001b[0m\u001b[0;34m.\u001b[0m\u001b[0madd_node\u001b[0m\u001b[0;34m(\u001b[0m\u001b[0mnode\u001b[0m\u001b[0;34m,\u001b[0m\u001b[0mpos\u001b[0m\u001b[0;34m=\u001b[0m\u001b[0;34m(\u001b[0m\u001b[0mx\u001b[0m\u001b[0;34m,\u001b[0m\u001b[0my\u001b[0m\u001b[0;34m)\u001b[0m\u001b[0;34m)\u001b[0m\u001b[0;34m\u001b[0m\u001b[0;34m\u001b[0m\u001b[0m\n",
      "\u001b[0;31mNameError\u001b[0m: name 'grains0' is not defined"
     ]
    }
   ],
   "source": [
    "Grain = grains0\n",
    "Granular_network=net.Graph()\n",
    "nx,ny = Grain.shape\n",
    "for node,x,y in zip(Grain[:,0],Grain[:,2],Grain[:,3]):\n",
    "    Granular_network.add_node(node,pos=(x,y))\n",
    "    \n",
    "DIST = []\n",
    "for i in range(nx):\n",
    "    for j in range(i+1,nx):\n",
    "        dist = np.sqrt((Grain[i,2]-Grain[j,2])**2 + (Grain[i,3]-Grain[j,3])**2)\n",
    "        if(dist<1.13):\n",
    "            Granular_network.add_edge(i+1, j+1,weight=1)\n"
   ]
  },
  {
   "cell_type": "code",
   "execution_count": null,
   "id": "7e8095f9",
   "metadata": {},
   "outputs": [],
   "source": [
    "figsize=set_size(500.484)\n",
    "fig, axs = plt.subplots(1, 1, figsize=(8,8))\n",
    "# figsize=set_size(500.484))\n",
    "\n",
    "# axs[0,0].axis('off')\n",
    "\n",
    "#  Pairwise force plots\n",
    "fx = pairwise[:,5]\n",
    "# plothist_grid(fx, \"fx\", \"\", axs[0,1])\n",
    "\n",
    "fy = pairwise[:,6]\n",
    "# plothist_grid(fy, \"fy\", \"\", axs[0,2])\n",
    "\n",
    "fn = np.sqrt(fx**2+fy**2)\n",
    "theta = fx/fn\n",
    "# plothist_grid(np.arccos(theta), \"F_theta\", \"\", axs[0,3])\n",
    "# plothist_grid(fn, \"Normal force\", \"\", axs[1,0])\n",
    "\n",
    "fN1 = fn/np.mean(fn)\n",
    "# plothist_grid(fN1, \"fn/<fn>\", \"\", axs)\n",
    "plt.hist(fn,bins=200)\n",
    "\n",
    "# fN2 = fn/np.percentile(fn,60)\n",
    "# plothist_grid(fN2, \"fN_perc\", \"\", axs[1,2])\n",
    "\n",
    "# fN3 = fn/np.max(fn)\n",
    "# plothist_grid(fN3, \"fN_max\", \"\", axs[1,3])\n",
    "\n",
    "# # Pairwise energy plot\n",
    "# eng = pairwise[:,4]\n",
    "# plothist_grid(eng, \"eng\", \"\", axs[2,0])\n",
    "\n",
    "# engN1 = eng/np.mean(eng)\n",
    "# plothist_grid(engN1, \"engN_mean\", \"\", axs[2,1])\n",
    "\n",
    "# engN2 = eng/np.percentile(eng,60)\n",
    "# plothist_grid(engN2, \"engN_perc\", \"\", axs[2,2])\n",
    "\n",
    "# engN3 = eng/np.max(eng)\n",
    "# plothist_grid(engN3, \"engN_max\", \"\", axs[2,3])\n",
    "\n",
    "# # Grainwise energy plot\n",
    "# geng=grains[:,12]\n",
    "# plothist_grid(geng, \"geng\", \"\", axs[3,0])\n",
    "\n",
    "# gengN1 = geng/np.mean(geng)\n",
    "# plothist_grid(gengN1, \"gengN_mean\", \"\", axs[3,1])\n",
    "\n",
    "# gengN2 = geng/np.percentile(geng,60)\n",
    "# plothist_grid(gengN2, \"gengN_perc\", \"\", axs[3,2])\n",
    "\n",
    "# gengN3 = geng/np.max(geng)\n",
    "# plothist_grid(gengN3, \"gengN_max\", \"\", axs[3,3])"
   ]
  }
 ],
 "metadata": {
  "kernelspec": {
   "display_name": "Python [conda env:mlenv] *",
   "language": "python",
   "name": "conda-env-mlenv-py"
  },
  "language_info": {
   "codemirror_mode": {
    "name": "ipython",
    "version": 3
   },
   "file_extension": ".py",
   "mimetype": "text/x-python",
   "name": "python",
   "nbconvert_exporter": "python",
   "pygments_lexer": "ipython3",
   "version": "3.7.7"
  },
  "latex_envs": {
   "LaTeX_envs_menu_present": true,
   "autoclose": false,
   "autocomplete": true,
   "bibliofile": "biblio.bib",
   "cite_by": "apalike",
   "current_citInitial": 1,
   "eqLabelWithNumbers": true,
   "eqNumInitial": 1,
   "hotkeys": {
    "equation": "Ctrl-E",
    "itemize": "Ctrl-I"
   },
   "labels_anchors": false,
   "latex_user_defs": false,
   "report_style_numbering": false,
   "user_envs_cfg": false
  },
  "toc": {
   "base_numbering": 1,
   "nav_menu": {
    "height": "220px",
    "width": "214.667px"
   },
   "number_sections": true,
   "sideBar": true,
   "skip_h1_title": false,
   "title_cell": "Table of Contents",
   "title_sidebar": "Contents",
   "toc_cell": false,
   "toc_position": {},
   "toc_section_display": true,
   "toc_window_display": false
  },
  "varInspector": {
   "cols": {
    "lenName": 16,
    "lenType": 16,
    "lenVar": 40
   },
   "kernels_config": {
    "python": {
     "delete_cmd_postfix": "",
     "delete_cmd_prefix": "del ",
     "library": "var_list.py",
     "varRefreshCmd": "print(var_dic_list())"
    },
    "r": {
     "delete_cmd_postfix": ") ",
     "delete_cmd_prefix": "rm(",
     "library": "var_list.r",
     "varRefreshCmd": "cat(var_dic_list()) "
    }
   },
   "types_to_exclude": [
    "module",
    "function",
    "builtin_function_or_method",
    "instance",
    "_Feature"
   ],
   "window_display": false
  }
 },
 "nbformat": 4,
 "nbformat_minor": 5
}
